{
 "cells": [
  {
   "cell_type": "code",
   "execution_count": 4,
   "id": "forbidden-transformation",
   "metadata": {},
   "outputs": [],
   "source": [
    "# Imports\n",
    "%matplotlib inline\n",
    "import pandas as pd\n",
    "import numpy as np\n",
    "import matplotlib.pyplot as plt\n",
    "import seaborn as sns\n",
    "from scipy.stats import norm\n",
    "from sklearn.preprocessing import StandardScaler,MinMaxScaler\n",
    "from scipy import stats\n",
    "import statistics\n",
    "import warnings\n",
    "\n",
    "# file path - this for linux windows you will need \"//\"\n",
    "f_path = \"conn_attack.csv\"\n",
    "\n",
    "df = pd.read_csv(f_path,names=[\"record ID\",\"duration\", \"src_bytes\",\"dst_bytes\"], header=None)"
   ]
  },
  {
   "cell_type": "code",
   "execution_count": 5,
   "id": "qualified-woman",
   "metadata": {},
   "outputs": [
    {
     "data": {
      "text/html": [
       "<div>\n",
       "<style scoped>\n",
       "    .dataframe tbody tr th:only-of-type {\n",
       "        vertical-align: middle;\n",
       "    }\n",
       "\n",
       "    .dataframe tbody tr th {\n",
       "        vertical-align: top;\n",
       "    }\n",
       "\n",
       "    .dataframe thead th {\n",
       "        text-align: right;\n",
       "    }\n",
       "</style>\n",
       "<table border=\"1\" class=\"dataframe\">\n",
       "  <thead>\n",
       "    <tr style=\"text-align: right;\">\n",
       "      <th></th>\n",
       "      <th>record ID</th>\n",
       "      <th>duration</th>\n",
       "      <th>src_bytes</th>\n",
       "      <th>dst_bytes</th>\n",
       "    </tr>\n",
       "  </thead>\n",
       "  <tbody>\n",
       "    <tr>\n",
       "      <th>0</th>\n",
       "      <td>1</td>\n",
       "      <td>0</td>\n",
       "      <td>236</td>\n",
       "      <td>1228</td>\n",
       "    </tr>\n",
       "    <tr>\n",
       "      <th>1</th>\n",
       "      <td>2</td>\n",
       "      <td>0</td>\n",
       "      <td>239</td>\n",
       "      <td>486</td>\n",
       "    </tr>\n",
       "    <tr>\n",
       "      <th>2</th>\n",
       "      <td>3</td>\n",
       "      <td>0</td>\n",
       "      <td>234</td>\n",
       "      <td>1364</td>\n",
       "    </tr>\n",
       "    <tr>\n",
       "      <th>3</th>\n",
       "      <td>4</td>\n",
       "      <td>0</td>\n",
       "      <td>239</td>\n",
       "      <td>1295</td>\n",
       "    </tr>\n",
       "    <tr>\n",
       "      <th>4</th>\n",
       "      <td>5</td>\n",
       "      <td>0</td>\n",
       "      <td>181</td>\n",
       "      <td>5450</td>\n",
       "    </tr>\n",
       "  </tbody>\n",
       "</table>\n",
       "</div>"
      ],
      "text/plain": [
       "   record ID  duration  src_bytes  dst_bytes\n",
       "0          1         0        236       1228\n",
       "1          2         0        239        486\n",
       "2          3         0        234       1364\n",
       "3          4         0        239       1295\n",
       "4          5         0        181       5450"
      ]
     },
     "execution_count": 5,
     "metadata": {},
     "output_type": "execute_result"
    }
   ],
   "source": [
    "data = df.dropna()\n",
    "data.head()"
   ]
  },
  {
   "cell_type": "code",
   "execution_count": 6,
   "id": "found-stomach",
   "metadata": {},
   "outputs": [
    {
     "data": {
      "text/html": [
       "<div>\n",
       "<style scoped>\n",
       "    .dataframe tbody tr th:only-of-type {\n",
       "        vertical-align: middle;\n",
       "    }\n",
       "\n",
       "    .dataframe tbody tr th {\n",
       "        vertical-align: top;\n",
       "    }\n",
       "\n",
       "    .dataframe thead th {\n",
       "        text-align: right;\n",
       "    }\n",
       "</style>\n",
       "<table border=\"1\" class=\"dataframe\">\n",
       "  <thead>\n",
       "    <tr style=\"text-align: right;\">\n",
       "      <th></th>\n",
       "      <th>record ID</th>\n",
       "      <th>duration</th>\n",
       "      <th>src_bytes</th>\n",
       "      <th>dst_bytes</th>\n",
       "    </tr>\n",
       "  </thead>\n",
       "  <tbody>\n",
       "    <tr>\n",
       "      <th>256665</th>\n",
       "      <td>256666</td>\n",
       "      <td>0</td>\n",
       "      <td>306</td>\n",
       "      <td>236</td>\n",
       "    </tr>\n",
       "    <tr>\n",
       "      <th>256666</th>\n",
       "      <td>256667</td>\n",
       "      <td>0</td>\n",
       "      <td>288</td>\n",
       "      <td>4017</td>\n",
       "    </tr>\n",
       "    <tr>\n",
       "      <th>256667</th>\n",
       "      <td>256668</td>\n",
       "      <td>0</td>\n",
       "      <td>289</td>\n",
       "      <td>1096</td>\n",
       "    </tr>\n",
       "    <tr>\n",
       "      <th>256668</th>\n",
       "      <td>256669</td>\n",
       "      <td>0</td>\n",
       "      <td>198</td>\n",
       "      <td>2169</td>\n",
       "    </tr>\n",
       "    <tr>\n",
       "      <th>256669</th>\n",
       "      <td>256670</td>\n",
       "      <td>0</td>\n",
       "      <td>212</td>\n",
       "      <td>2288</td>\n",
       "    </tr>\n",
       "  </tbody>\n",
       "</table>\n",
       "</div>"
      ],
      "text/plain": [
       "        record ID  duration  src_bytes  dst_bytes\n",
       "256665     256666         0        306        236\n",
       "256666     256667         0        288       4017\n",
       "256667     256668         0        289       1096\n",
       "256668     256669         0        198       2169\n",
       "256669     256670         0        212       2288"
      ]
     },
     "execution_count": 6,
     "metadata": {},
     "output_type": "execute_result"
    }
   ],
   "source": [
    "data.tail()"
   ]
  },
  {
   "cell_type": "code",
   "execution_count": 7,
   "id": "seven-choir",
   "metadata": {},
   "outputs": [
    {
     "data": {
      "text/plain": [
       "(256670, 4)"
      ]
     },
     "execution_count": 7,
     "metadata": {},
     "output_type": "execute_result"
    }
   ],
   "source": [
    "data.shape"
   ]
  },
  {
   "cell_type": "code",
   "execution_count": 41,
   "id": "aware-tackle",
   "metadata": {},
   "outputs": [
    {
     "data": {
      "text/html": [
       "<div>\n",
       "<style scoped>\n",
       "    .dataframe tbody tr th:only-of-type {\n",
       "        vertical-align: middle;\n",
       "    }\n",
       "\n",
       "    .dataframe tbody tr th {\n",
       "        vertical-align: top;\n",
       "    }\n",
       "\n",
       "    .dataframe thead th {\n",
       "        text-align: right;\n",
       "    }\n",
       "</style>\n",
       "<table border=\"1\" class=\"dataframe\">\n",
       "  <thead>\n",
       "    <tr style=\"text-align: right;\">\n",
       "      <th></th>\n",
       "      <th>record ID</th>\n",
       "      <th>duration</th>\n",
       "      <th>src_bytes</th>\n",
       "      <th>dst_bytes</th>\n",
       "      <th>cumpercentage</th>\n",
       "    </tr>\n",
       "  </thead>\n",
       "  <tbody>\n",
       "    <tr>\n",
       "      <th>count</th>\n",
       "      <td>256670.000000</td>\n",
       "      <td>256670.000000</td>\n",
       "      <td>256670.000000</td>\n",
       "      <td>2.566700e+05</td>\n",
       "      <td>256670.000000</td>\n",
       "    </tr>\n",
       "    <tr>\n",
       "      <th>mean</th>\n",
       "      <td>128335.500000</td>\n",
       "      <td>0.640936</td>\n",
       "      <td>474.247898</td>\n",
       "      <td>4.473533e+03</td>\n",
       "      <td>75.686544</td>\n",
       "    </tr>\n",
       "    <tr>\n",
       "      <th>std</th>\n",
       "      <td>74094.391134</td>\n",
       "      <td>15.627170</td>\n",
       "      <td>3391.106084</td>\n",
       "      <td>2.080903e+04</td>\n",
       "      <td>16.075180</td>\n",
       "    </tr>\n",
       "    <tr>\n",
       "      <th>min</th>\n",
       "      <td>1.000000</td>\n",
       "      <td>0.000000</td>\n",
       "      <td>0.000000</td>\n",
       "      <td>0.000000e+00</td>\n",
       "      <td>0.044806</td>\n",
       "    </tr>\n",
       "    <tr>\n",
       "      <th>25%</th>\n",
       "      <td>64168.250000</td>\n",
       "      <td>0.000000</td>\n",
       "      <td>217.000000</td>\n",
       "      <td>6.600000e+02</td>\n",
       "      <td>62.531005</td>\n",
       "    </tr>\n",
       "    <tr>\n",
       "      <th>50%</th>\n",
       "      <td>128335.500000</td>\n",
       "      <td>0.000000</td>\n",
       "      <td>249.000000</td>\n",
       "      <td>1.661000e+03</td>\n",
       "      <td>77.439930</td>\n",
       "    </tr>\n",
       "    <tr>\n",
       "      <th>75%</th>\n",
       "      <td>192502.750000</td>\n",
       "      <td>0.000000</td>\n",
       "      <td>306.000000</td>\n",
       "      <td>4.341000e+03</td>\n",
       "      <td>89.638108</td>\n",
       "    </tr>\n",
       "    <tr>\n",
       "      <th>max</th>\n",
       "      <td>256670.000000</td>\n",
       "      <td>3289.000000</td>\n",
       "      <td>54540.000000</td>\n",
       "      <td>7.068759e+06</td>\n",
       "      <td>100.000000</td>\n",
       "    </tr>\n",
       "  </tbody>\n",
       "</table>\n",
       "</div>"
      ],
      "text/plain": [
       "           record ID       duration      src_bytes     dst_bytes  \\\n",
       "count  256670.000000  256670.000000  256670.000000  2.566700e+05   \n",
       "mean   128335.500000       0.640936     474.247898  4.473533e+03   \n",
       "std     74094.391134      15.627170    3391.106084  2.080903e+04   \n",
       "min         1.000000       0.000000       0.000000  0.000000e+00   \n",
       "25%     64168.250000       0.000000     217.000000  6.600000e+02   \n",
       "50%    128335.500000       0.000000     249.000000  1.661000e+03   \n",
       "75%    192502.750000       0.000000     306.000000  4.341000e+03   \n",
       "max    256670.000000    3289.000000   54540.000000  7.068759e+06   \n",
       "\n",
       "       cumpercentage  \n",
       "count  256670.000000  \n",
       "mean       75.686544  \n",
       "std        16.075180  \n",
       "min         0.044806  \n",
       "25%        62.531005  \n",
       "50%        77.439930  \n",
       "75%        89.638108  \n",
       "max       100.000000  "
      ]
     },
     "execution_count": 41,
     "metadata": {},
     "output_type": "execute_result"
    }
   ],
   "source": [
    "df.describe()"
   ]
  },
  {
   "cell_type": "code",
   "execution_count": 8,
   "id": "expressed-groove",
   "metadata": {},
   "outputs": [
    {
     "data": {
      "text/plain": [
       "Index(['record ID', 'duration', 'src_bytes', 'dst_bytes'], dtype='object')"
      ]
     },
     "execution_count": 8,
     "metadata": {},
     "output_type": "execute_result"
    }
   ],
   "source": [
    "data.columns"
   ]
  },
  {
   "cell_type": "code",
   "execution_count": 9,
   "id": "clean-kazakhstan",
   "metadata": {},
   "outputs": [
    {
     "data": {
      "text/plain": [
       "record ID    256670\n",
       "duration        368\n",
       "src_bytes       473\n",
       "dst_bytes     17063\n",
       "dtype: int64"
      ]
     },
     "execution_count": 9,
     "metadata": {},
     "output_type": "execute_result"
    }
   ],
   "source": [
    "#Unique value count\n",
    "data.nunique()"
   ]
  },
  {
   "cell_type": "code",
   "execution_count": 10,
   "id": "virtual-recycling",
   "metadata": {},
   "outputs": [
    {
     "data": {
      "text/plain": [
       "record ID    0\n",
       "duration     0\n",
       "src_bytes    0\n",
       "dst_bytes    0\n",
       "dtype: int64"
      ]
     },
     "execution_count": 10,
     "metadata": {},
     "output_type": "execute_result"
    }
   ],
   "source": [
    "data.isnull().sum()"
   ]
  },
  {
   "cell_type": "code",
   "execution_count": 11,
   "id": "plastic-memory",
   "metadata": {},
   "outputs": [],
   "source": [
    "corelation_data = data.drop(\"record ID\",axis=1)"
   ]
  },
  {
   "cell_type": "code",
   "execution_count": 12,
   "id": "under-destiny",
   "metadata": {},
   "outputs": [
    {
     "data": {
      "text/html": [
       "<div>\n",
       "<style scoped>\n",
       "    .dataframe tbody tr th:only-of-type {\n",
       "        vertical-align: middle;\n",
       "    }\n",
       "\n",
       "    .dataframe tbody tr th {\n",
       "        vertical-align: top;\n",
       "    }\n",
       "\n",
       "    .dataframe thead th {\n",
       "        text-align: right;\n",
       "    }\n",
       "</style>\n",
       "<table border=\"1\" class=\"dataframe\">\n",
       "  <thead>\n",
       "    <tr style=\"text-align: right;\">\n",
       "      <th></th>\n",
       "      <th>duration</th>\n",
       "      <th>src_bytes</th>\n",
       "      <th>dst_bytes</th>\n",
       "    </tr>\n",
       "  </thead>\n",
       "  <tbody>\n",
       "    <tr>\n",
       "      <th>0</th>\n",
       "      <td>0</td>\n",
       "      <td>236</td>\n",
       "      <td>1228</td>\n",
       "    </tr>\n",
       "    <tr>\n",
       "      <th>1</th>\n",
       "      <td>0</td>\n",
       "      <td>239</td>\n",
       "      <td>486</td>\n",
       "    </tr>\n",
       "    <tr>\n",
       "      <th>2</th>\n",
       "      <td>0</td>\n",
       "      <td>234</td>\n",
       "      <td>1364</td>\n",
       "    </tr>\n",
       "    <tr>\n",
       "      <th>3</th>\n",
       "      <td>0</td>\n",
       "      <td>239</td>\n",
       "      <td>1295</td>\n",
       "    </tr>\n",
       "    <tr>\n",
       "      <th>4</th>\n",
       "      <td>0</td>\n",
       "      <td>181</td>\n",
       "      <td>5450</td>\n",
       "    </tr>\n",
       "  </tbody>\n",
       "</table>\n",
       "</div>"
      ],
      "text/plain": [
       "   duration  src_bytes  dst_bytes\n",
       "0         0        236       1228\n",
       "1         0        239        486\n",
       "2         0        234       1364\n",
       "3         0        239       1295\n",
       "4         0        181       5450"
      ]
     },
     "execution_count": 12,
     "metadata": {},
     "output_type": "execute_result"
    }
   ],
   "source": [
    "corelation_data.head()"
   ]
  },
  {
   "cell_type": "code",
   "execution_count": 13,
   "id": "solid-tunisia",
   "metadata": {},
   "outputs": [],
   "source": [
    "corelation = corelation_data.corr()"
   ]
  },
  {
   "cell_type": "code",
   "execution_count": 14,
   "id": "competitive-decade",
   "metadata": {},
   "outputs": [
    {
     "data": {
      "text/plain": [
       "<AxesSubplot:>"
      ]
     },
     "execution_count": 14,
     "metadata": {},
     "output_type": "execute_result"
    },
    {
     "data": {
      "image/png": "[encoded data removed]",
      "text/plain": [
       "<Figure size 432x288 with 2 Axes>"
      ]
     },
     "metadata": {
      "needs_background": "light"
     },
     "output_type": "display_data"
    }
   ],
   "source": [
    "#Heat-map\n",
    "sns.heatmap(corelation,xticklabels=corelation.columns,yticklabels=corelation.columns,vmin=-1,vmax=1,annot=True)"
   ]
  },
  {
   "cell_type": "code",
   "execution_count": 29,
   "id": "superior-print",
   "metadata": {},
   "outputs": [
    {
     "data": {
      "text/plain": [
       "<seaborn.axisgrid.PairGrid at 0x269e4bf1ca0>"
      ]
     },
     "execution_count": 29,
     "metadata": {},
     "output_type": "execute_result"
    },
    {
     "data": {
      "image/png": "[encoded data removed]",
      "text/plain": [
       "<Figure size 540x540 with 12 Axes>"
      ]
     },
     "metadata": {
      "needs_background": "light"
     },
     "output_type": "display_data"
    }
   ],
   "source": [
    "#\n",
    "sns.pairplot(corelation_data)"
   ]
  },
  {
   "cell_type": "code",
   "execution_count": 30,
   "id": "spatial-meter",
   "metadata": {},
   "outputs": [
    {
     "data": {
      "text/plain": [
       "<seaborn.axisgrid.FacetGrid at 0x269e4bf1f40>"
      ]
     },
     "execution_count": 30,
     "metadata": {},
     "output_type": "execute_result"
    },
    {
     "data": {
      "image/png": "[encoded data removed]",
      "text/plain": [
       "<Figure size 421.25x360 with 1 Axes>"
      ]
     },
     "metadata": {
      "needs_background": "light"
     },
     "output_type": "display_data"
    }
   ],
   "source": [
    "sns.relplot(x='src_bytes',y='dst_bytes',hue='duration',data=corelation_data)#, legend=\"full\")"
   ]
  },
  {
   "cell_type": "code",
   "execution_count": 31,
   "id": "after-framing",
   "metadata": {},
   "outputs": [
    {
     "data": {
      "text/plain": [
       "<seaborn.axisgrid.FacetGrid at 0x2683c31f6d0>"
      ]
     },
     "execution_count": 31,
     "metadata": {},
     "output_type": "execute_result"
    },
    {
     "data": {
      "image/png": "[encoded data removed]",
      "text/plain": [
       "<Figure size 360x360 with 1 Axes>"
      ]
     },
     "metadata": {
      "needs_background": "light"
     },
     "output_type": "display_data"
    }
   ],
   "source": [
    "sns.relplot(x='src_bytes',y='duration',data=corelation_data)"
   ]
  },
  {
   "cell_type": "code",
   "execution_count": 32,
   "id": "direct-beauty",
   "metadata": {},
   "outputs": [
    {
     "name": "stderr",
     "output_type": "stream",
     "text": [
      "c:\\python38\\lib\\site-packages\\seaborn\\distributions.py:2557: FutureWarning: `distplot` is a deprecated function and will be removed in a future version. Please adapt your code to use either `displot` (a figure-level function with similar flexibility) or `histplot` (an axes-level function for histograms).\n",
      "  warnings.warn(msg, FutureWarning)\n"
     ]
    },
    {
     "data": {
      "text/plain": [
       "<AxesSubplot:xlabel='src_bytes', ylabel='Density'>"
      ]
     },
     "execution_count": 32,
     "metadata": {},
     "output_type": "execute_result"
    },
    {
     "data": {
      "image/png": "[encoded data removed]",
      "text/plain": [
       "<Figure size 432x288 with 1 Axes>"
      ]
     },
     "metadata": {
      "needs_background": "light"
     },
     "output_type": "display_data"
    }
   ],
   "source": [
    "sns.distplot(df['src_bytes'])"
   ]
  },
  {
   "cell_type": "code",
   "execution_count": 33,
   "id": "answering-intelligence",
   "metadata": {},
   "outputs": [
    {
     "name": "stderr",
     "output_type": "stream",
     "text": [
      "c:\\python38\\lib\\site-packages\\seaborn\\distributions.py:2557: FutureWarning: `distplot` is a deprecated function and will be removed in a future version. Please adapt your code to use either `displot` (a figure-level function with similar flexibility) or `histplot` (an axes-level function for histograms).\n",
      "  warnings.warn(msg, FutureWarning)\n"
     ]
    },
    {
     "data": {
      "text/plain": [
       "<AxesSubplot:xlabel='dst_bytes', ylabel='Density'>"
      ]
     },
     "execution_count": 33,
     "metadata": {},
     "output_type": "execute_result"
    },
    {
     "data": {
      "image/png": "[encoded data removed]",
      "text/plain": [
       "<Figure size 432x288 with 1 Axes>"
      ]
     },
     "metadata": {
      "needs_background": "light"
     },
     "output_type": "display_data"
    }
   ],
   "source": [
    "sns.distplot(df['dst_bytes'] )"
   ]
  },
  {
   "cell_type": "code",
   "execution_count": 34,
   "id": "formal-distance",
   "metadata": {},
   "outputs": [],
   "source": [
    "#sns.distplot(df['duration'])"
   ]
  },
  {
   "cell_type": "code",
   "execution_count": 35,
   "id": "sufficient-express",
   "metadata": {},
   "outputs": [
    {
     "data": {
      "text/plain": [
       "<seaborn.axisgrid.FacetGrid at 0x2683d1dfaf0>"
      ]
     },
     "execution_count": 35,
     "metadata": {},
     "output_type": "execute_result"
    },
    {
     "data": {
      "image/png": "[encoded data removed]",
      "text/plain": [
       "<Figure size 360x360 with 1 Axes>"
      ]
     },
     "metadata": {
      "needs_background": "light"
     },
     "output_type": "display_data"
    }
   ],
   "source": [
    "sns.catplot(x='duration',kind='box',data=df)"
   ]
  },
  {
   "cell_type": "code",
   "execution_count": 36,
   "id": "confident-retention",
   "metadata": {},
   "outputs": [
    {
     "data": {
      "text/plain": [
       "<seaborn.axisgrid.FacetGrid at 0x269e4c57040>"
      ]
     },
     "execution_count": 36,
     "metadata": {},
     "output_type": "execute_result"
    },
    {
     "data": {
      "image/png": "[encoded data removed]",
      "text/plain": [
       "<Figure size 360x360 with 1 Axes>"
      ]
     },
     "metadata": {
      "needs_background": "light"
     },
     "output_type": "display_data"
    }
   ],
   "source": [
    "sns.catplot(x='src_bytes',kind='box',data=df)"
   ]
  },
  {
   "cell_type": "code",
   "execution_count": 37,
   "id": "persistent-bradley",
   "metadata": {},
   "outputs": [
    {
     "data": {
      "text/plain": [
       "<seaborn.axisgrid.FacetGrid at 0x2683d1a85e0>"
      ]
     },
     "execution_count": 37,
     "metadata": {},
     "output_type": "execute_result"
    },
    {
     "data": {
      "image/png": "[encoded data removed]",
      "text/plain": [
       "<Figure size 360x360 with 1 Axes>"
      ]
     },
     "metadata": {
      "needs_background": "light"
     },
     "output_type": "display_data"
    }
   ],
   "source": [
    "sns.catplot(x='dst_bytes',kind='box',data=df)"
   ]
  },
  {
   "cell_type": "code",
   "execution_count": 38,
   "id": "female-aruba",
   "metadata": {},
   "outputs": [
    {
     "data": {
      "text/plain": [
       "duration     2.442084e+02\n",
       "src_bytes    1.149960e+07\n",
       "dst_bytes    4.330159e+08\n",
       "dtype: float64"
      ]
     },
     "execution_count": 38,
     "metadata": {},
     "output_type": "execute_result"
    }
   ],
   "source": [
    "#Variance\n",
    "df.var()\n",
    "corelation_data.var()"
   ]
  },
  {
   "cell_type": "code",
   "execution_count": 57,
   "id": "artistic-slope",
   "metadata": {},
   "outputs": [
    {
     "name": "stderr",
     "output_type": "stream",
     "text": [
      "c:\\python38\\lib\\site-packages\\seaborn\\distributions.py:2557: FutureWarning: `distplot` is a deprecated function and will be removed in a future version. Please adapt your code to use either `displot` (a figure-level function with similar flexibility) or `histplot` (an axes-level function for histograms).\n",
      "  warnings.warn(msg, FutureWarning)\n"
     ]
    },
    {
     "data": {
      "image/png": "[encoded data removed]",
      "text/plain": [
       "<Figure size 432x288 with 1 Axes>"
      ]
     },
     "metadata": {
      "needs_background": "light"
     },
     "output_type": "display_data"
    }
   ],
   "source": [
    "#histogram\n",
    "sns.distplot(df['src_bytes']);\n",
    "\n",
    "# fig, ax = plt.subplots()\n",
    "# sns.distplot(df['src_bytes'], ax=ax)\n",
    "# ax.set_xlim(1,1000)\n",
    "# ax.set_xticks(range(1,10))\n",
    "# plt.show()\n"
   ]
  },
  {
   "cell_type": "code",
   "execution_count": 86,
   "id": "connected-blast",
   "metadata": {},
   "outputs": [
    {
     "name": "stdout",
     "output_type": "stream",
     "text": [
      "Standard Deviation of duration is: 15.627170079019622\n",
      "duration mean : 0.6409358320021817\n",
      "Standard Deviation of src_bytes is: 3391.1060841362832\n",
      "src_bytes mean : 474.2478980792457\n",
      "Standard Deviation of dst_bytes is: 20809.034546762265\n",
      "dst_bytes mean : 4473.532613862158\n",
      "Standard Deviation of ratio is :0.9178279817228151\n",
      "ratio mean : 0.3201304771892098\n",
      "anomaly list is :13134\n",
      "normal list is :243536\n"
     ]
    }
   ],
   "source": [
    "#Our algorithm#\n",
    "df = pd.read_csv(f_path,names=[\"record ID\",\"duration\", \"src_bytes\",\"dst_bytes\"], header=None)\n",
    "\n",
    "ratio = []\n",
    "\n",
    "#duration mean + standard deviation\n",
    "dt_mean = df[\"duration\"].mean()\n",
    "dt_std = df[\"duration\"].std()\n",
    "\n",
    "#src_bytes mean + standard deviation\n",
    "src_mean = df[\"src_bytes\"].mean()\n",
    "src_std = df[\"src_bytes\"].std()\n",
    "\n",
    "#dst_bytes mean + standard deviation\n",
    "dst_mean = df[\"dst_bytes\"].mean()\n",
    "dst_std = df[\"dst_bytes\"].std()\n",
    "\n",
    "\n",
    "\n",
    "sum_ratio = 0.0\n",
    "lengthCSV = len(df)\n",
    "for i in range(lengthCSV) :\n",
    "    if df.iloc[i, 3] != 0 :\n",
    "      ratio.append(df.iloc[i, 2]/df.iloc[i, 3])\n",
    "      sum_ratio += (df.iloc[i, 2]/df.iloc[i, 3])\n",
    "    else: \n",
    "        ratio.append(0)\n",
    "   \n",
    "\n",
    "# Print mean standard deviation\n",
    "print(\"Standard Deviation of duration is: \" + str(dt_std))\n",
    "print(\"duration mean : \" + str(dt_mean))\n",
    "\n",
    "# Print mea standard deviation\n",
    "print(\"Standard Deviation of src_bytes is: \" + str(src_std))\n",
    "print(\"src_bytes mean : \" + str(src_mean))\n",
    "\n",
    "# Print mean standard deviation\n",
    "print(\"Standard Deviation of dst_bytes is: \" + str(dst_std))\n",
    "print(\"dst_bytes mean : \" + str(dst_mean))\n",
    "\n",
    "\n",
    "ratio_std = statistics.pstdev(ratio)\n",
    "ratio_mean = sum_ratio/lengthCSV\n",
    "\n",
    "print(\"Standard Deviation of ratio is :\"+str(ratio_std))\n",
    "print(\"ratio mean : \" + str(ratio_mean))\n",
    "\n",
    "anomaly = []\n",
    "normal = []\n",
    "for i in range(lengthCSV) :\n",
    "      if(df.iloc[i, 1]>dt_mean+dt_std or df.iloc[i, 2]>src_mean+src_std or df.iloc[i, 3]>dst_mean+dst_std or ratio[i]>ratio_mean+ratio_std ):\n",
    "                anomaly.append(df.iloc[i,0])\n",
    "      else :\n",
    "        normal.append(df.iloc[i,0])\n",
    "#print(anomaly)\n",
    "print(\"anomaly list is :\" + str(len(anomaly)))\n",
    "print(\"normal list is :\" + str(len(normal)))"
   ]
  },
  {
   "cell_type": "code",
   "execution_count": 94,
   "id": "stable-remark",
   "metadata": {},
   "outputs": [
    {
     "name": "stdout",
     "output_type": "stream",
     "text": [
      "Standard Deviation of duration is: 1.2743703150374621\n",
      "duration mean : 0.0\n",
      "Standard Deviation of src_bytes is: 426.211141382428\n",
      "src_bytes mean : 249.0\n",
      "Standard Deviation of dst_bytes is: 4636.105607525563\n",
      "dst_bytes mean : 1661.0\n",
      "Standard Deviation of ratio is :0.9178279817228151\n",
      "ratio mean : 0.3201304771892098\n",
      "median  : 0.15631131458469588\n",
      "rratio_median_std : 0.12125882923148597\n",
      "anomaly list is :17\n",
      "normal list is :256653\n"
     ]
    }
   ],
   "source": [
    "#Our algorithm - median#\n",
    "df = pd.read_csv(f_path,names=[\"record ID\",\"duration\", \"src_bytes\",\"dst_bytes\"], header=None)\n",
    "\n",
    "ratio = []\n",
    "\n",
    "#duration mean + standard deviation\n",
    "dt_mean = df[\"duration\"].median()\n",
    "dt_std = df[\"duration\"].mad()\n",
    "\n",
    "\n",
    "#src_bytes mean + standard deviation\n",
    "src_mean = df[\"src_bytes\"].median()\n",
    "src_std = df[\"src_bytes\"].mad()\n",
    "\n",
    "#dst_bytes mean + standard deviation\n",
    "dst_mean = df[\"dst_bytes\"].median()\n",
    "dst_std = df[\"dst_bytes\"].mad()\n",
    "\n",
    "\n",
    "\n",
    "sum_ratio = 0.0\n",
    "lengthCSV = len(df)\n",
    "for i in range(lengthCSV) :\n",
    "    if df.iloc[i, 3] != 0 :\n",
    "      ratio.append(df.iloc[i, 2]/df.iloc[i, 3])\n",
    "      sum_ratio += (df.iloc[i, 2]/df.iloc[i, 3])\n",
    "    else: \n",
    "        ratio.append(0)\n",
    "   \n",
    "\n",
    "# Print mean standard deviation\n",
    "print(\"Standard Deviation of duration is: \" + str(dt_std))\n",
    "print(\"duration mean : \" + str(dt_mean))\n",
    "\n",
    "# Print mea standard deviation\n",
    "print(\"Standard Deviation of src_bytes is: \" + str(src_std))\n",
    "print(\"src_bytes mean : \" + str(src_mean))\n",
    "\n",
    "# Print mean standard deviation\n",
    "print(\"Standard Deviation of dst_bytes is: \" + str(dst_std))\n",
    "print(\"dst_bytes mean : \" + str(dst_mean))\n",
    "\n",
    "\n",
    "ratio_std = statistics.pstdev(ratio)\n",
    "ratio_mean = sum_ratio/lengthCSV\n",
    "ratio_median = statistics.median(ratio)\n",
    "ratio_median_std = stats.median_abs_deviation(ratio)\n",
    "\n",
    "\n",
    "print(\"Standard Deviation of ratio is :\"+str(ratio_std))\n",
    "print(\"ratio mean : \" + str(ratio_mean))\n",
    "\n",
    "print(\"median  : \" + str(ratio_median))\n",
    "print(\"rratio_median_std : \" + str(ratio_median_std))\n",
    "\n",
    "normal = []\n",
    "anomaly = []\n",
    "\n",
    "for i in range(lengthCSV) :\n",
    "      if(df.iloc[i, 1]>dt_mean and df.iloc[i, 2]>src_mean and df.iloc[i, 3]>dst_mean and ratio[i]>ratio_mean ):\n",
    "    # if(df.iloc[i, 1]>dt_mean+dt_std or df.iloc[i, 2]>src_mean+src_std or df.iloc[i, 3]>dst_mean+dst_std or ratio[i]>ratio_mean+ratio_std ):\n",
    "            anomaly.append(df.iloc[i,0])\n",
    "      else :\n",
    "        normal.append(df.iloc[i,0])\n",
    "#print(anomaly)\n",
    "print(\"anomaly list is :\" + str(len(anomaly)))\n",
    "print(\"normal list is :\" + str(len(normal)))"
   ]
  },
  {
   "cell_type": "code",
   "execution_count": null,
   "id": "generous-nation",
   "metadata": {},
   "outputs": [],
   "source": []
  },
  {
   "cell_type": "code",
   "execution_count": null,
   "id": "complicated-pioneer",
   "metadata": {},
   "outputs": [],
   "source": []
  }
 ],
 "metadata": {
  "kernelspec": {
   "display_name": "Python 3",
   "language": "python",
   "name": "python3"
  },
  "language_info": {
   "codemirror_mode": {
    "name": "ipython",
    "version": 3
   },
   "file_extension": ".py",
   "mimetype": "text/x-python",
   "name": "python",
   "nbconvert_exporter": "python",
   "pygments_lexer": "ipython3",
   "version": "3.8.5"
  }
 },
 "nbformat": 4,
 "nbformat_minor": 5
}
