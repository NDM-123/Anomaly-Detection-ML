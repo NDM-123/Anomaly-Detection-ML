{
 "cells": [
  {
   "cell_type": "markdown",
   "id": "proprietary-walnut",
   "metadata": {},
   "source": [
    "# Data exploration "
   ]
  },
  {
   "cell_type": "markdown",
   "id": "abstract-mountain",
   "metadata": {},
   "source": [
    "316418698 - Gal Bar <br>\n",
    "311236673 - Yishay Garame <br>\n",
    "204670723 - Naor Maoz "
   ]
  },
  {
   "cell_type": "code",
   "execution_count": 51,
   "id": "mathematical-madness",
   "metadata": {},
   "outputs": [],
   "source": [
    "# Imports\n",
    "%matplotlib inline\n",
    "import pandas as pd\n",
    "import numpy as np\n",
    "import matplotlib.pyplot as plt\n",
    "import seaborn as sns\n",
    "from scipy.stats import norm\n",
    "from sklearn.preprocessing import StandardScaler,MinMaxScaler\n",
    "from scipy import stats\n",
    "import statistics\n",
    "import warnings\n",
    "\n",
    "warnings.filterwarnings(\"ignore\")\n",
    "# file path - this for linux/windows you will need \"//\"\n",
    "f_path = \"conn_attack.csv\"\n",
    "\n",
    "df = pd.read_csv(f_path,names=[\"record ID\",\"duration\", \"src_bytes\",\"dst_bytes\"], header=None)"
   ]
  },
  {
   "cell_type": "markdown",
   "id": "identical-allen",
   "metadata": {},
   "source": [
    "#### 5 First elements of the CSV  "
   ]
  },
  {
   "cell_type": "code",
   "execution_count": 52,
   "id": "nearby-despite",
   "metadata": {},
   "outputs": [
    {
     "data": {
      "text/html": [
       "<div>\n",
       "<style scoped>\n",
       "    .dataframe tbody tr th:only-of-type {\n",
       "        vertical-align: middle;\n",
       "    }\n",
       "\n",
       "    .dataframe tbody tr th {\n",
       "        vertical-align: top;\n",
       "    }\n",
       "\n",
       "    .dataframe thead th {\n",
       "        text-align: right;\n",
       "    }\n",
       "</style>\n",
       "<table border=\"1\" class=\"dataframe\">\n",
       "  <thead>\n",
       "    <tr style=\"text-align: right;\">\n",
       "      <th></th>\n",
       "      <th>record ID</th>\n",
       "      <th>duration</th>\n",
       "      <th>src_bytes</th>\n",
       "      <th>dst_bytes</th>\n",
       "    </tr>\n",
       "  </thead>\n",
       "  <tbody>\n",
       "    <tr>\n",
       "      <th>0</th>\n",
       "      <td>1</td>\n",
       "      <td>0</td>\n",
       "      <td>236</td>\n",
       "      <td>1228</td>\n",
       "    </tr>\n",
       "    <tr>\n",
       "      <th>1</th>\n",
       "      <td>2</td>\n",
       "      <td>0</td>\n",
       "      <td>239</td>\n",
       "      <td>486</td>\n",
       "    </tr>\n",
       "    <tr>\n",
       "      <th>2</th>\n",
       "      <td>3</td>\n",
       "      <td>0</td>\n",
       "      <td>234</td>\n",
       "      <td>1364</td>\n",
       "    </tr>\n",
       "    <tr>\n",
       "      <th>3</th>\n",
       "      <td>4</td>\n",
       "      <td>0</td>\n",
       "      <td>239</td>\n",
       "      <td>1295</td>\n",
       "    </tr>\n",
       "    <tr>\n",
       "      <th>4</th>\n",
       "      <td>5</td>\n",
       "      <td>0</td>\n",
       "      <td>181</td>\n",
       "      <td>5450</td>\n",
       "    </tr>\n",
       "  </tbody>\n",
       "</table>\n",
       "</div>"
      ],
      "text/plain": [
       "   record ID  duration  src_bytes  dst_bytes\n",
       "0          1         0        236       1228\n",
       "1          2         0        239        486\n",
       "2          3         0        234       1364\n",
       "3          4         0        239       1295\n",
       "4          5         0        181       5450"
      ]
     },
     "execution_count": 52,
     "metadata": {},
     "output_type": "execute_result"
    }
   ],
   "source": [
    "data = df.dropna()\n",
    "data.head()"
   ]
  },
  {
   "cell_type": "markdown",
   "id": "funded-arrow",
   "metadata": {},
   "source": [
    "#### Generate descriptive statistics"
   ]
  },
  {
   "cell_type": "code",
   "execution_count": 53,
   "id": "documentary-trouble",
   "metadata": {},
   "outputs": [
    {
     "data": {
      "text/html": [
       "<div>\n",
       "<style scoped>\n",
       "    .dataframe tbody tr th:only-of-type {\n",
       "        vertical-align: middle;\n",
       "    }\n",
       "\n",
       "    .dataframe tbody tr th {\n",
       "        vertical-align: top;\n",
       "    }\n",
       "\n",
       "    .dataframe thead th {\n",
       "        text-align: right;\n",
       "    }\n",
       "</style>\n",
       "<table border=\"1\" class=\"dataframe\">\n",
       "  <thead>\n",
       "    <tr style=\"text-align: right;\">\n",
       "      <th></th>\n",
       "      <th>record ID</th>\n",
       "      <th>duration</th>\n",
       "      <th>src_bytes</th>\n",
       "      <th>dst_bytes</th>\n",
       "    </tr>\n",
       "  </thead>\n",
       "  <tbody>\n",
       "    <tr>\n",
       "      <th>count</th>\n",
       "      <td>256670.000000</td>\n",
       "      <td>256670.000000</td>\n",
       "      <td>256670.000000</td>\n",
       "      <td>2.566700e+05</td>\n",
       "    </tr>\n",
       "    <tr>\n",
       "      <th>mean</th>\n",
       "      <td>128335.500000</td>\n",
       "      <td>0.640936</td>\n",
       "      <td>474.247898</td>\n",
       "      <td>4.473533e+03</td>\n",
       "    </tr>\n",
       "    <tr>\n",
       "      <th>std</th>\n",
       "      <td>74094.391134</td>\n",
       "      <td>15.627170</td>\n",
       "      <td>3391.106084</td>\n",
       "      <td>2.080903e+04</td>\n",
       "    </tr>\n",
       "    <tr>\n",
       "      <th>min</th>\n",
       "      <td>1.000000</td>\n",
       "      <td>0.000000</td>\n",
       "      <td>0.000000</td>\n",
       "      <td>0.000000e+00</td>\n",
       "    </tr>\n",
       "    <tr>\n",
       "      <th>25%</th>\n",
       "      <td>64168.250000</td>\n",
       "      <td>0.000000</td>\n",
       "      <td>217.000000</td>\n",
       "      <td>6.600000e+02</td>\n",
       "    </tr>\n",
       "    <tr>\n",
       "      <th>50%</th>\n",
       "      <td>128335.500000</td>\n",
       "      <td>0.000000</td>\n",
       "      <td>249.000000</td>\n",
       "      <td>1.661000e+03</td>\n",
       "    </tr>\n",
       "    <tr>\n",
       "      <th>75%</th>\n",
       "      <td>192502.750000</td>\n",
       "      <td>0.000000</td>\n",
       "      <td>306.000000</td>\n",
       "      <td>4.341000e+03</td>\n",
       "    </tr>\n",
       "    <tr>\n",
       "      <th>max</th>\n",
       "      <td>256670.000000</td>\n",
       "      <td>3289.000000</td>\n",
       "      <td>54540.000000</td>\n",
       "      <td>7.068759e+06</td>\n",
       "    </tr>\n",
       "  </tbody>\n",
       "</table>\n",
       "</div>"
      ],
      "text/plain": [
       "           record ID       duration      src_bytes     dst_bytes\n",
       "count  256670.000000  256670.000000  256670.000000  2.566700e+05\n",
       "mean   128335.500000       0.640936     474.247898  4.473533e+03\n",
       "std     74094.391134      15.627170    3391.106084  2.080903e+04\n",
       "min         1.000000       0.000000       0.000000  0.000000e+00\n",
       "25%     64168.250000       0.000000     217.000000  6.600000e+02\n",
       "50%    128335.500000       0.000000     249.000000  1.661000e+03\n",
       "75%    192502.750000       0.000000     306.000000  4.341000e+03\n",
       "max    256670.000000    3289.000000   54540.000000  7.068759e+06"
      ]
     },
     "execution_count": 53,
     "metadata": {},
     "output_type": "execute_result"
    }
   ],
   "source": [
    "df.describe()"
   ]
  },
  {
   "cell_type": "markdown",
   "id": "wicked-length",
   "metadata": {},
   "source": [
    "#### Unique value count"
   ]
  },
  {
   "cell_type": "code",
   "execution_count": 54,
   "id": "surrounded-meter",
   "metadata": {},
   "outputs": [
    {
     "data": {
      "text/plain": [
       "record ID    256670\n",
       "duration        368\n",
       "src_bytes       473\n",
       "dst_bytes     17063\n",
       "dtype: int64"
      ]
     },
     "execution_count": 54,
     "metadata": {},
     "output_type": "execute_result"
    }
   ],
   "source": [
    "data.nunique()"
   ]
  },
  {
   "cell_type": "code",
   "execution_count": 55,
   "id": "split-malpractice",
   "metadata": {},
   "outputs": [
    {
     "data": {
      "text/plain": [
       "record ID    0\n",
       "duration     0\n",
       "src_bytes    0\n",
       "dst_bytes    0\n",
       "dtype: int64"
      ]
     },
     "execution_count": 55,
     "metadata": {},
     "output_type": "execute_result"
    }
   ],
   "source": [
    "data.isnull().sum()"
   ]
  },
  {
   "cell_type": "markdown",
   "id": "fitted-america",
   "metadata": {},
   "source": [
    "#### Variance"
   ]
  },
  {
   "cell_type": "code",
   "execution_count": 56,
   "id": "deluxe-foundation",
   "metadata": {},
   "outputs": [
    {
     "data": {
      "text/plain": [
       "duration     2.442084e+02\n",
       "src_bytes    1.149960e+07\n",
       "dst_bytes    4.330159e+08\n",
       "dtype: float64"
      ]
     },
     "execution_count": 56,
     "metadata": {},
     "output_type": "execute_result"
    }
   ],
   "source": [
    "df.var()\n",
    "corelation_data.var()"
   ]
  },
  {
   "cell_type": "code",
   "execution_count": 65,
   "id": "usual-niagara",
   "metadata": {},
   "outputs": [
    {
     "name": "stdout",
     "output_type": "stream",
     "text": [
      "Skewness: 15.824471\n",
      "Kurtosis: 248.739606\n"
     ]
    }
   ],
   "source": [
    "'''\n",
    "Deviate from the normal distribution.\n",
    "Have appreciable positive skewness.\n",
    "Show peakedness.\n",
    "'''\n",
    "#skewness and kurtosis\n",
    "print(\"Skewness: %f\" % df['src_bytes'].skew())\n",
    "print(\"Kurtosis: %f\" % df['src_bytes'].kurt())"
   ]
  },
  {
   "cell_type": "code",
   "execution_count": 57,
   "id": "powerful-filling",
   "metadata": {},
   "outputs": [],
   "source": [
    "# Drops the record ID column \n",
    "corelation_data = data.drop(\"record ID\",axis=1)"
   ]
  },
  {
   "cell_type": "code",
   "execution_count": 58,
   "id": "valued-girlfriend",
   "metadata": {},
   "outputs": [],
   "source": [
    "corelation = corelation_data.corr()"
   ]
  },
  {
   "cell_type": "markdown",
   "id": "understanding-advertiser",
   "metadata": {},
   "source": [
    "#### Corelation Heat map of the given values"
   ]
  },
  {
   "cell_type": "code",
   "execution_count": 59,
   "id": "rough-uzbekistan",
   "metadata": {},
   "outputs": [
    {
     "data": {
      "text/plain": [
       "<AxesSubplot:>"
      ]
     },
     "execution_count": 59,
     "metadata": {},
     "output_type": "execute_result"
    },
    {
     "data": {
      "image/png": "[encoded data removed]",
      "text/plain": [
       "<Figure size 432x288 with 2 Axes>"
      ]
     },
     "metadata": {
      "needs_background": "light"
     },
     "output_type": "display_data"
    }
   ],
   "source": [
    "#Heat-map\n",
    "sns.heatmap(corelation,xticklabels=corelation.columns,yticklabels=corelation.columns,vmin=-1,vmax=1,annot=True)"
   ]
  },
  {
   "cell_type": "markdown",
   "id": "packed-converter",
   "metadata": {},
   "source": [
    "#### Plot pairwise relationships in a dataset."
   ]
  },
  {
   "cell_type": "code",
   "execution_count": 60,
   "id": "casual-rebound",
   "metadata": {},
   "outputs": [
    {
     "data": {
      "text/plain": [
       "<seaborn.axisgrid.PairGrid at 0x1dc1d728820>"
      ]
     },
     "execution_count": 60,
     "metadata": {},
     "output_type": "execute_result"
    },
    {
     "data": {
      "image/png": "[encoded data removed]",
      "text/plain": [
       "<Figure size 540x540 with 12 Axes>"
      ]
     },
     "metadata": {
      "needs_background": "light"
     },
     "output_type": "display_data"
    }
   ],
   "source": [
    "sns.pairplot(corelation_data)"
   ]
  },
  {
   "cell_type": "markdown",
   "id": "coastal-enforcement",
   "metadata": {},
   "source": [
    "#### Src Byte Disturbation "
   ]
  },
  {
   "cell_type": "code",
   "execution_count": 61,
   "id": "sustainable-behalf",
   "metadata": {},
   "outputs": [
    {
     "data": {
      "text/plain": [
       "<AxesSubplot:xlabel='src_bytes', ylabel='Density'>"
      ]
     },
     "execution_count": 61,
     "metadata": {},
     "output_type": "execute_result"
    },
    {
     "data": {
      "image/png": "[encoded data removed]",
      "text/plain": [
       "<Figure size 432x288 with 1 Axes>"
      ]
     },
     "metadata": {
      "needs_background": "light"
     },
     "output_type": "display_data"
    }
   ],
   "source": [
    "sns.distplot(df['src_bytes'], fit=norm )\n"
   ]
  },
  {
   "cell_type": "markdown",
   "id": "suspended-details",
   "metadata": {},
   "source": [
    "#### Dest Byte Disturbation "
   ]
  },
  {
   "cell_type": "code",
   "execution_count": 62,
   "id": "changed-collector",
   "metadata": {},
   "outputs": [
    {
     "data": {
      "text/plain": [
       "<AxesSubplot:xlabel='dst_bytes', ylabel='Density'>"
      ]
     },
     "execution_count": 62,
     "metadata": {},
     "output_type": "execute_result"
    },
    {
     "data": {
      "image/png": "[encoded data removed]",
      "text/plain": [
       "<Figure size 432x288 with 1 Axes>"
      ]
     },
     "metadata": {
      "needs_background": "light"
     },
     "output_type": "display_data"
    }
   ],
   "source": [
    "sns.distplot(df['dst_bytes'] )"
   ]
  },
  {
   "cell_type": "markdown",
   "id": "front-jason",
   "metadata": {},
   "source": [
    "#### SRC/DEST ratio"
   ]
  },
  {
   "cell_type": "code",
   "execution_count": 63,
   "id": "demographic-steam",
   "metadata": {},
   "outputs": [
    {
     "data": {
      "text/plain": [
       "<AxesSubplot:>"
      ]
     },
     "execution_count": 63,
     "metadata": {},
     "output_type": "execute_result"
    },
    {
     "data": {
      "image/png": "[encoded data removed]",
      "text/plain": [
       "<Figure size 432x288 with 1 Axes>"
      ]
     },
     "metadata": {
      "needs_background": "light"
     },
     "output_type": "display_data"
    }
   ],
   "source": [
    "df['src_bytes'].div(df['dst_bytes']).plot()"
   ]
  },
  {
   "cell_type": "markdown",
   "id": "fundamental-recovery",
   "metadata": {},
   "source": [
    "#### DEST/SRC ratio"
   ]
  },
  {
   "cell_type": "code",
   "execution_count": 64,
   "id": "lightweight-creator",
   "metadata": {},
   "outputs": [
    {
     "data": {
      "text/plain": [
       "<AxesSubplot:>"
      ]
     },
     "execution_count": 64,
     "metadata": {},
     "output_type": "execute_result"
    },
    {
     "data": {
      "image/png": "[encoded data removed]",
      "text/plain": [
       "<Figure size 432x288 with 1 Axes>"
      ]
     },
     "metadata": {
      "needs_background": "light"
     },
     "output_type": "display_data"
    }
   ],
   "source": [
    "df['dst_bytes'].div(df['src_bytes']).plot()"
   ]
  },
  {
   "cell_type": "markdown",
   "id": "induced-graphic",
   "metadata": {},
   "source": [
    "### Data exploration -- conclusions  "
   ]
  },
  {
   "cell_type": "markdown",
   "id": "distinguished-birthday",
   "metadata": {},
   "source": [
    "From the data we have explored we been able to get to some conclusions such as the ratio has a critical abnormality, whenever we saw a high ratio we could easily see a correlation with the parameters abnormality. \n",
    "Also the Skewness and Kurtosis of the src_bytes have showed us the distribution of the graphs"
   ]
  },
  {
   "cell_type": "markdown",
   "id": "naughty-detector",
   "metadata": {},
   "source": [
    "# Algorithms"
   ]
  },
  {
   "cell_type": "markdown",
   "id": "attempted-straight",
   "metadata": {},
   "source": [
    "On this section we were asked Which Algorithms group is suitable to handle this kind of task.\n",
    "We think that the best algorithms for this kind of task will be:\n",
    "Clustering algorithms where you analyze data distribution according to its spread and group by proximity to other connections parameters. \n",
    "Those kind of algorithms can handle the proximity problem while noticing the small differencs between the parameters and identifiying the similarity to the nearest cluster. "
   ]
  },
  {
   "cell_type": "code",
   "execution_count": 69,
   "id": "alone-liver",
   "metadata": {},
   "outputs": [],
   "source": [
    "#Our algorithm#'\n",
    "import math\n",
    "ratio_src_to_dest = []\n",
    "ratio_dest_to_src = []\n",
    "anomaly_record_id = []\n",
    "\n",
    "# Add new anomaly cloumn 0 clean 1 anomaly\n",
    "df[\"anomaly\"] = \"0\"\n",
    "\n",
    "#duration AVG + standard deviation\n",
    "duration_avg = df[\"duration\"].mean()\n",
    "duration_std = df[\"duration\"].std()\n",
    "\n",
    "lengthCSV = len(df)\n",
    "\n",
    "#Calculate src/dest ratio \n",
    "for i in range(lengthCSV) :\n",
    "    src_byte = df.iloc[i, 2]\n",
    "    dest_byte = df.iloc[i, 3]\n",
    "    if df.iloc[i, 3] == 0 or df.iloc[i, 2] == 0 :\n",
    "        ratio_src_to_dest.append(0)\n",
    "        ratio_dest_to_src.append(0)\n",
    "    else:\n",
    "        ratio_src_to_dest.append(src_byte / dest_byte)\n",
    "        ratio_dest_to_src.append(dest_byte / src_byte )    \n",
    "        \n",
    "    \n",
    "# STD for DEST/SRC Ratio \n",
    "std_src_to_dest = np.std(ratio_src_to_dest)\n",
    "std_dest_to_src = np.std(ratio_dest_to_src)\n",
    "\n",
    "# AVG FOR SRC/DEST Ratio\n",
    "avg_src_to_dest = np.mean(ratio_src_to_dest, dtype=np.float64)\n",
    "avg_dest_to_src = np.mean(ratio_dest_to_src, dtype=np.float64)  "
   ]
  },
  {
   "cell_type": "code",
   "execution_count": 77,
   "id": "subjective-colonial",
   "metadata": {},
   "outputs": [
    {
     "name": "stdout",
     "output_type": "stream",
     "text": [
      "256670\n",
      "256670\n",
      "std_src_to_dest 0.9178279817228152\n",
      "std_dest_to_src 98.8162903773709\n",
      "avg_src_to_dest0.3201304771892071\n",
      "avg_dest_to_src18.661893119212472\n",
      "1\n",
      "[29]\n"
     ]
    }
   ],
   "source": [
    "from statistics import variance\n",
    "from fractions import Fraction as fr\n",
    "import csv\n",
    "\n",
    "print(len(ratio_src_to_dest))\n",
    "print(len(ratio_dest_to_src))\n",
    "print(\"std_src_to_dest \" + str(std_src_to_dest))\n",
    "print(\"std_dest_to_src \" + str(std_dest_to_src))\n",
    "print(\"avg_src_to_dest\" + str(avg_src_to_dest))\n",
    "print(\"avg_dest_to_src\" + str(avg_dest_to_src))\n",
    "\n",
    "anomaly_record_id = []\n",
    "for i in range(lengthCSV) :\n",
    "    #\n",
    "    if(ratio_src_to_dest[i] == 0 or ratio_dest_to_src[i] == 0  or ratio_dest_to_src[i] >  std_dest_to_src * 2 + avg_dest_to_src or ratio_src_to_dest[i] > std_src_to_dest * 2  + avg_src_to_dest   ):\n",
    "        anomaly_record_id.append(df.iloc[i, 0])\n",
    "        df.iloc[i,4] = 1\n",
    "        break\n",
    "    else:\n",
    "        df.iloc[i,4] = 0\n",
    "print(len(anomaly_record_id))\n",
    "print(anomaly_record_id[0:100])\n"
   ]
  },
  {
   "cell_type": "code",
   "execution_count": null,
   "id": "pediatric-infrastructure",
   "metadata": {},
   "outputs": [],
   "source": [
    "dh.h"
   ]
  },
  {
   "cell_type": "code",
   "execution_count": null,
   "id": "fossil-speaker",
   "metadata": {},
   "outputs": [],
   "source": []
  }
 ],
 "metadata": {
  "kernelspec": {
   "display_name": "Python 3",
   "language": "python",
   "name": "python3"
  },
  "language_info": {
   "codemirror_mode": {
    "name": "ipython",
    "version": 3
   },
   "file_extension": ".py",
   "mimetype": "text/x-python",
   "name": "python",
   "nbconvert_exporter": "python",
   "pygments_lexer": "ipython3",
   "version": "3.8.1"
  }
 },
 "nbformat": 4,
 "nbformat_minor": 5
}
