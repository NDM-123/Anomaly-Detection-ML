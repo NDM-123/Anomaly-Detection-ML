{
 "cells": [
  {
   "cell_type": "code",
   "execution_count": 42,
   "metadata": {},
   "outputs": [],
   "source": [
    "# Imports\n",
    "%matplotlib inline\n",
    "import pandas as pd\n",
    "import numpy as np\n",
    "import matplotlib.pyplot as plt\n",
    "import seaborn as sns\n",
    "from scipy.stats import norm\n",
    "from sklearn.preprocessing import StandardScaler,MinMaxScaler\n",
    "from scipy import stats\n",
    "import statistics\n",
    "import warnings\n"
   ]
  },
  {
   "cell_type": "code",
   "execution_count": 43,
   "metadata": {},
   "outputs": [],
   "source": [
    "# file path - this for linux windows you will need \"//\"\n",
    "f_path = \"f_path = "conn_attack.csv"",
    "\n",
    "df = pd.read_csv(f_path,names=[\"record ID\",\"duration_\", \"src_bytes\",\"dst_bytes\"], header=None)"
   ]
  },
  {
   "cell_type": "code",
   "execution_count": 44,
   "metadata": {},
   "outputs": [],
   "source": [
    "df=df.dropna()"
   ]
  },
  {
   "cell_type": "code",
   "execution_count": 45,
   "metadata": {},
   "outputs": [
    {
     "data": {
      "text/html": [
       "<div>\n",
       "<style scoped>\n",
       "    .dataframe tbody tr th:only-of-type {\n",
       "        vertical-align: middle;\n",
       "    }\n",
       "\n",
       "    .dataframe tbody tr th {\n",
       "        vertical-align: top;\n",
       "    }\n",
       "\n",
       "    .dataframe thead th {\n",
       "        text-align: right;\n",
       "    }\n",
       "</style>\n",
       "<table border=\"1\" class=\"dataframe\">\n",
       "  <thead>\n",
       "    <tr style=\"text-align: right;\">\n",
       "      <th></th>\n",
       "      <th>record ID</th>\n",
       "      <th>duration_</th>\n",
       "      <th>src_bytes</th>\n",
       "      <th>dst_bytes</th>\n",
       "    </tr>\n",
       "  </thead>\n",
       "  <tbody>\n",
       "    <tr>\n",
       "      <th>0</th>\n",
       "      <td>1</td>\n",
       "      <td>0</td>\n",
       "      <td>236</td>\n",
       "      <td>1228</td>\n",
       "    </tr>\n",
       "    <tr>\n",
       "      <th>1</th>\n",
       "      <td>2</td>\n",
       "      <td>0</td>\n",
       "      <td>239</td>\n",
       "      <td>486</td>\n",
       "    </tr>\n",
       "    <tr>\n",
       "      <th>2</th>\n",
       "      <td>3</td>\n",
       "      <td>0</td>\n",
       "      <td>234</td>\n",
       "      <td>1364</td>\n",
       "    </tr>\n",
       "    <tr>\n",
       "      <th>3</th>\n",
       "      <td>4</td>\n",
       "      <td>0</td>\n",
       "      <td>239</td>\n",
       "      <td>1295</td>\n",
       "    </tr>\n",
       "    <tr>\n",
       "      <th>4</th>\n",
       "      <td>5</td>\n",
       "      <td>0</td>\n",
       "      <td>181</td>\n",
       "      <td>5450</td>\n",
       "    </tr>\n",
       "  </tbody>\n",
       "</table>\n",
       "</div>"
      ],
      "text/plain": [
       "   record ID  duration_  src_bytes  dst_bytes\n",
       "0          1          0        236       1228\n",
       "1          2          0        239        486\n",
       "2          3          0        234       1364\n",
       "3          4          0        239       1295\n",
       "4          5          0        181       5450"
      ]
     },
     "execution_count": 45,
     "metadata": {},
     "output_type": "execute_result"
    }
   ],
   "source": [
    "df.head()"
   ]
  },
  {
   "cell_type": "code",
   "execution_count": 46,
   "metadata": {},
   "outputs": [
    {
     "data": {
      "text/html": [
       "<div>\n",
       "<style scoped>\n",
       "    .dataframe tbody tr th:only-of-type {\n",
       "        vertical-align: middle;\n",
       "    }\n",
       "\n",
       "    .dataframe tbody tr th {\n",
       "        vertical-align: top;\n",
       "    }\n",
       "\n",
       "    .dataframe thead th {\n",
       "        text-align: right;\n",
       "    }\n",
       "</style>\n",
       "<table border=\"1\" class=\"dataframe\">\n",
       "  <thead>\n",
       "    <tr style=\"text-align: right;\">\n",
       "      <th></th>\n",
       "      <th>record ID</th>\n",
       "      <th>duration_</th>\n",
       "      <th>src_bytes</th>\n",
       "      <th>dst_bytes</th>\n",
       "    </tr>\n",
       "  </thead>\n",
       "  <tbody>\n",
       "    <tr>\n",
       "      <th>count</th>\n",
       "      <td>256670.000000</td>\n",
       "      <td>256670.000000</td>\n",
       "      <td>256670.000000</td>\n",
       "      <td>2.566700e+05</td>\n",
       "    </tr>\n",
       "    <tr>\n",
       "      <th>mean</th>\n",
       "      <td>128335.500000</td>\n",
       "      <td>0.640936</td>\n",
       "      <td>474.247898</td>\n",
       "      <td>4.473533e+03</td>\n",
       "    </tr>\n",
       "    <tr>\n",
       "      <th>std</th>\n",
       "      <td>74094.391134</td>\n",
       "      <td>15.627170</td>\n",
       "      <td>3391.106084</td>\n",
       "      <td>2.080903e+04</td>\n",
       "    </tr>\n",
       "    <tr>\n",
       "      <th>min</th>\n",
       "      <td>1.000000</td>\n",
       "      <td>0.000000</td>\n",
       "      <td>0.000000</td>\n",
       "      <td>0.000000e+00</td>\n",
       "    </tr>\n",
       "    <tr>\n",
       "      <th>25%</th>\n",
       "      <td>64168.250000</td>\n",
       "      <td>0.000000</td>\n",
       "      <td>217.000000</td>\n",
       "      <td>6.600000e+02</td>\n",
       "    </tr>\n",
       "    <tr>\n",
       "      <th>50%</th>\n",
       "      <td>128335.500000</td>\n",
       "      <td>0.000000</td>\n",
       "      <td>249.000000</td>\n",
       "      <td>1.661000e+03</td>\n",
       "    </tr>\n",
       "    <tr>\n",
       "      <th>75%</th>\n",
       "      <td>192502.750000</td>\n",
       "      <td>0.000000</td>\n",
       "      <td>306.000000</td>\n",
       "      <td>4.341000e+03</td>\n",
       "    </tr>\n",
       "    <tr>\n",
       "      <th>max</th>\n",
       "      <td>256670.000000</td>\n",
       "      <td>3289.000000</td>\n",
       "      <td>54540.000000</td>\n",
       "      <td>7.068759e+06</td>\n",
       "    </tr>\n",
       "  </tbody>\n",
       "</table>\n",
       "</div>"
      ],
      "text/plain": [
       "           record ID      duration_      src_bytes     dst_bytes\n",
       "count  256670.000000  256670.000000  256670.000000  2.566700e+05\n",
       "mean   128335.500000       0.640936     474.247898  4.473533e+03\n",
       "std     74094.391134      15.627170    3391.106084  2.080903e+04\n",
       "min         1.000000       0.000000       0.000000  0.000000e+00\n",
       "25%     64168.250000       0.000000     217.000000  6.600000e+02\n",
       "50%    128335.500000       0.000000     249.000000  1.661000e+03\n",
       "75%    192502.750000       0.000000     306.000000  4.341000e+03\n",
       "max    256670.000000    3289.000000   54540.000000  7.068759e+06"
      ]
     },
     "execution_count": 46,
     "metadata": {},
     "output_type": "execute_result"
    }
   ],
   "source": [
    "df.describe()"
   ]
  },
  {
   "cell_type": "code",
   "execution_count": 47,
   "metadata": {},
   "outputs": [],
   "source": [
    "# import matplotlib.pyplot as plt\n",
    "# from sklearn.model_selection import cross_val_score\n",
    "# from sklearn.model_selection import RepeatedStratifiedKFold\n",
    "# from sklearn.neighbors import KNeighborsClassifier\n",
    "# from sklearn.pipeline import Pipeline\n",
    "\n",
    "# x = df.iloc[:,1:2]\n",
    "# y = df.iloc[:,0]\n",
    "\n",
    "\n",
    "# plt.scatter(x, y)\n",
    "# plt.show()\n",
    "\n",
    "\n",
    "\n",
    "# # define the pipeline\n",
    "# trans = MinMaxScaler()\n",
    "# model = KNeighborsClassifier()\n",
    "# pipeline = Pipeline(steps=[('t', trans), ('m', model)])\n",
    "# # evaluate the pipeline\n",
    "# cv = RepeatedStratifiedKFold(n_splits=10, n_repeats=3, random_state=1)\n",
    "# n_scores = cross_val_score(pipeline, x, y, scoring='accuracy', cv=cv, n_jobs=-1, error_score='raise')\n",
    "# # report pipeline performance\n",
    "# print('Accuracy: %.3f (%.3f)' % (mean(n_scores), std(n_scores)))"
   ]
  },
  {
   "cell_type": "code",
   "execution_count": 48,
   "metadata": {
    "scrolled": true
   },
   "outputs": [
    {
     "data": {
      "image/png": "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\n",
      "text/plain": [
       "<Figure size 432x288 with 1 Axes>"
      ]
     },
     "metadata": {
      "needs_background": "light"
     },
     "output_type": "display_data"
    }
   ],
   "source": [
    "x = df.iloc[:,2:3]\n",
    "y = df.iloc[:,0]\n",
    "plt.scatter(x, y)\n",
    "plt.show()"
   ]
  },
  {
   "cell_type": "code",
   "execution_count": 49,
   "metadata": {},
   "outputs": [
    {
     "data": {
      "image/png": "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\n",
      "text/plain": [
       "<Figure size 432x288 with 1 Axes>"
      ]
     },
     "metadata": {
      "needs_background": "light"
     },
     "output_type": "display_data"
    }
   ],
   "source": [
    "x = df.iloc[:,3:4]\n",
    "y = df.iloc[:,0]\n",
    "plt.scatter(x, y)\n",
    "plt.show()"
   ]
  },
  {
   "cell_type": "code",
   "execution_count": null,
   "metadata": {},
   "outputs": [],
   "source": []
  },
  {
   "cell_type": "code",
   "execution_count": 50,
   "metadata": {},
   "outputs": [
    {
     "data": {
      "image/png": "iVBORw0KGgoAAAANSUhEUgAAAYMAAAEWCAYAAACEz/viAAAABHNCSVQICAgIfAhkiAAAAAlwSFlzAAALEgAACxIB0t1+/AAAADh0RVh0U29mdHdhcmUAbWF0cGxvdGxpYiB2ZXJzaW9uMy4xLjMsIGh0dHA6Ly9tYXRwbG90bGliLm9yZy+AADFEAAAgAElEQVR4nO3deZxcdZ3u8c/TnU46pAsCSVMNYWmBVOPIFZTAoKi4MFdGHZjrMuKuw1zueFXEqy9HmLnqODMu4wzXdVRUQNRBEbcouDDKpqORBFllsgCBhABpQiD71v29f5xT4aTSK6lTp6rreb9Sr66z1DnfU0n6Ocvv/I4iAjMza28dRRdgZmbFcxiYmZnDwMzMHAZmZobDwMzMcBiYmRkOA6sDSR+W9I0GrKdfUkia1iw11Yuk6yX9VZ2WdZmkf6zHsuol/Xs7pug6bHQOAxuXpE2Z17CkrZnhN9R5XZdJ2lGzztvquY6nKhNGt9SMn5vWvHKCyyk0qCQdIunLktak3++96fd+bFE1WfEcBjauiOipvoAHgD/LjPtmDqv85+w6I+L4HNaxL2ZJOi4z/HrgvqKKmQxJc4D/BPYDng+UgGcDNwB/Mspnxj0Ss9bnMLB6mS7pckkbJd0laUF1gqRDJX1X0qCk+ySdV48VpstdKOkxSSsk/c+aWbolfTut6RZJx6efe5ukH2WWs0LSlZnhVZJOGGPVXwfekhl+M3D5CLXttc2SzgAuBF47wlHPkZJ+ndb7c0lzM8s7M/1eH09PKT09M+1Z6fZtlPRtoHuM2t8DbADeFBH3ROLxiLg0Ij6bLq96BHSOpAeAX6bjvyPpYUlPSLpR0jMyNVwm6YuSrk3ruEHSkTXrPl3ScknrJX1eksao0xrMYWD1cibwLWA2sBD4HICkDuBHwG3APOAlwPmSXlqHdV4BrAYOBV4NfFTSSzLTzwK+AxwE/DvwA0ldJHvBz5fUIekQoAs4Na33KKAHuH2M9X4DOFtSZ/pLuQQsqk4ca5sj4qfAR4Fvj3DU83rgbcDBwHTgfenyKum2ng/0AtcAP5I0XdJ04AckAXVQur2vGqP204HvR8TwGPNUnQY8Haj+Xf0EmJ/WdwtQe1T4BuAfgLnArSNMfwVwEnA88BeZ5VoTaNkwkHSJpLWS7pzAvC9I95x2SXp1ZvwJkn6T7nHdLum1+VY9pf0qIq6JiCGSX0zVX3InAb0R8ZGI2BER9wJfBs4eY1nvS/eAq6+v1c4g6XDgecDfRMS2iLgV+ArwpsxsSyLiqojYCVxEssd8SlrDRuAEkl94PwMeTM+ZnwbcNM4vy9XAUpJfrG+h5qjgKW4zwKURsSwitgJXpvUBvBa4OiKuTbflX4CZwHOBU0jC7FMRsTMirgJuHmMdc4GHqwPpEcfj1aORmnk/HBGb03qIiEsiYmNEbAc+DBwv6YDM/FdHxI3p9L8FnpP+PVV9PD0KeQC4LrN91gRa+VzgZSR7n7X/EUfyAPBW0j2tjC3AmyNiuaRDgSWSfhYRj9ez0DbxcOb9FpJTNNOAI4FDJWW/007gpjGW9S8R8XfjrO9Q4LGI2JgZdz+wIDO8qvomIoYlVY8iIDk6eCFwTPr+cZIgeE46PJ7LSf5NPRd4Ackec9VT2WbY+zvsSd8fSrJt2W1ZRXLUMQQ8GHv2OHk/o1sHHJJZ1kJgtpKWTG+smXf39yepE/gn4DUkRyfVsJwLPFE7f0RskvRYWnt1/GjbZ02gZY8MIuJG4LHsOElHS/qppCWSbqq2joiIlRFxO0/+A64uY1lELE/frwHWkvxDt/pZBdwXEbMzr1JEvGwfl7sGOEhSKTPuCODBzPDuvdL01M1h6efgyTB4fvr+BpIwOI2JhcF3gZcD90ZE7S/f8bZ5sl0FryEJmOq2KN22B4GHgHk159+PGGNZvwD+PP0+xpOt8/Ukp91OBw4A+qvlZObJft89JKet1mAtoWXDYBQXA++KiBNJjgL+baIflHQyyXnae3KqrV39Dtgg6W8kzUzPsx8n6aR9WWhErCJpFfMxSd2Sngmcw57nqU+U9Mr0COV8YDvw23TaDcCLgJkRsZpkr/0MYA7w+wmsfzPwYmCkewPG2+ZHgP4J/kKG5JTRyyW9JL3m8d50W/4T+A2wCzhP0jRJrwROHmNZFwEHAl9Pd56UBup4p2xK6TrXkbRE+ugI87xM0vPS6xj/ACxK/56sBUyZMEj3RJ4LfEfSrcCXyBwOj/PZQ0jOc79tghfWbILSawh/RvLL5j7gUZJz+weM8bH3a8/7DB4dZb7XkeyhrgG+D3woIq7NTP8hyfn29STXEl6ZnnMnIpYBm0hP3UTEBuBe4NdpzRPZtsURsdfOwwS2+Tvpz3WquWdhlPUsJTmF89l0WX9G0rx3R0TsAF5Jcspqfbq93xtjWY+SXGfYBvyK5NrJrSS/7N8+RhmXk5x+ehD4A0+Gata/Ax8iOWI/keSCsrUItfLDbST1Az+OiOMk7Q8sjYhRA0DSZen8V2XG7Q9cD3wsIr4zykfNbAzp/63VE7jWY01qyhwZpHt290l6DSTnVZW2Kx9Nejj7feByB4GZtbOWDQNJV5CcLx2QtFrSOSSHpecouZHnLpILXkg6KW1J8hrgS5LuShfzFyQtQd4q6db05eZuZtZ2Wvo0kZmZ1UfLHhmYmVn9tORNZ3Pnzo3+/v6iyzAzaylLlix5NCJGvJeqJcOgv7+fxYsXF12GmVlLkTTq3ek+TWRmZg4DMzPLOQzSbgJ+J+m2tGfQvx9hnhlK+pxfIWlReiOZmZk1UN5HBtuBF6d9tp8AnCHplJp5zgHWR8QxwP8DPpFzTWZmViPXMEiforQpHexKX7U3NpwFVPurvwp4SU0PjGZmlrPcrxmkPTbeStI99LURsahmlnmk/Z1HxC6SvtHnjLCccyUtlrR4cHAw77LNzNpK7mEQEUMRcQJJX/Ina88HicOe/aHv/tgIy7k4IhZExILeXj9ywMysnhrWmih9etj1JH3GZ60mfShG2u/8AdQ8tKZefv/Aej72k7sZHnYXHGZmWXm3JuqVNDt9P5PkKUn/VTPbQpLnyELyUPNfRk4dJv3Xwxv50g338uDjW/NYvJlZy8r7yOAQ4DpJt5M8pPvaiPixpI9IOjOd56vAHEkrgP8DfCCvYirl5JGrSx/eOM6cZmbtJdfuKNLnDj9rhPEfzLzfRtK1dO7ml5PH5S59ZCOn/1G5Eas0M2sJbXUH8v7dXRx6QDfLH/GRgZlZVluFAUClr8TSRzaNP6OZWRtpuzAYKJe4Z+0mdg35ufdmZlVtFwaVcokdQ8OsXLel6FLMzJpG24XBQF9yEXmZrxuYme3WdmFwzME9SG5eamaW1XZh0N3VSf+cWT4yMDPLaLswgOTms6UOAzOz3do0DEqsfHQz23YOFV2KmVlTaNswGA64Z9D3G5iZQZuGQbVF0XLffGZmBrRpGPTPmUVXp3zdwMws1ZZhMH1aB0fN7WGZm5eamQFtGgZQ7aPIYWBmBm0cBgPlHlav38qm7buKLsXMrHBtGwaVcvUiso8OzMzaNgzcR5GZ2ZPaNgwOP3A/urs6WPqwm5eambVtGHR0iPkHl3xkYGZGG4cBJNcN3KLIzKzNw2Cgr4fBjdtZv3lH0aWYmRWqrcOg2qLIp4rMrN21dRi4RZGZWaKtw6Bv/25K3dN83cDM2l6uYSDpcEnXSbpb0l2S3j3CPC+U9ISkW9PXB/OsqWbdDJRLLHPzUjNrc9NyXv4u4L0RcYukErBE0rUR8Yea+W6KiFfkXMuIKn0lrr79ISICSUWUYGZWuFyPDCLioYi4JX2/EbgbmJfnOidroFziia07Wbtxe9GlmJkVpmHXDCT1A88CFo0w+TmSbpP0E0nPGOXz50paLGnx4OBg3eqaX+4BYKm7szazNtaQMJDUA3wXOD8iNtRMvgU4MiKOBz4L/GCkZUTExRGxICIW9Pb21q22ATcvNTPLPwwkdZEEwTcj4nu10yNiQ0RsSt9fA3RJmpt3XVVzemYwt2e6jwzMrK3l3ZpIwFeBuyPiolHm6UvnQ9LJaU3r8qyrVqVcYtlatygys/aVd2uiU4E3AXdIujUddyFwBEBEfBF4NfB2SbuArcDZERE517WHSrnElYtXMTwcdHS4RZGZtZ9cwyAifgWM+ds1Ij4HfC7POsYz0Fdiy44hHnx8K4cftF+RpZiZFaKt70CuqvZR5OsGZtauHAZApdq81C2KzKxNOQyAUncX82bPdPNSM2tbDoNUpdzj00Rm1rYcBqlKucS9g5vZOTRcdClmZg3nMEhVyiV2DA1z/7rNRZdiZtZwDoNU9UE3S92dtZm1IYdB6piDe5DcR5GZtSeHQaq7q5P+ObMcBmbWlhwGGZVyj+81MLO25DDIGCiXWPnoZrbtHCq6FDOzhnIYZFT6SgwH3DPoi8hm1l4cBhl+0I2ZtSuHQUb/3Fl0dcrNS82s7TgMMro6Ozhqbo+PDMys7TgMalT6Su6jyMzajsOgxkC5hwcf38qm7buKLsXMrGEcBjWqD7pZ7lNFZtZGHAY1qn0U+bqBmbUTh0GNww/cj+6uDrcoMrO24jCo0dEhKuWSjwzMrK04DEZQKZfcR5GZtRWHwQgGyiUGN27nsc07ii7FzKwhHAYjqPgispm1GYfBCCrlHsBhYGbtI9cwkHS4pOsk3S3pLknvHmEeSfqMpBWSbpf07Dxrmoi+/bspdU/znchm1jam5bz8XcB7I+IWSSVgiaRrI+IPmXn+FJifvv4Y+EL6szCSGHCLIjNrI7keGUTEQxFxS/p+I3A3MK9mtrOAyyPxW2C2pEPyrGsiKn0llj2yiYgouhQzs9w17JqBpH7gWcCimknzgFWZ4dXsHRhIOlfSYkmLBwcH8ypzt4FyiSe27mTtxu25r8vMrGgNCQNJPcB3gfMjYkPt5BE+stfueERcHBELImJBb29vHmXuodpHka8bmFk7yD0MJHWRBME3I+J7I8yyGjg8M3wYsCbvusbjFkVm1k7ybk0k4KvA3RFx0SizLQTenLYqOgV4IiIeyrOuiZjTM4O5PTN8ZGBmbSHv1kSnAm8C7pB0azruQuAIgIj4InAN8DJgBbAFeFvONU3YQJ+femZm7SHXMIiIXzHyNYHsPAG8I886nqpKucS3freK4eGgo2PMzTAza2m+A3kMlXKJrTuHWL1+a9GlmJnlymEwht0tinyqyMymOIfBGNyiyMzahcNgDKXuLubNnukwMLMpz2Ewjkq5x81LzWzKcxiMo9JX4t7BzewcGi66FDOz3DgMxjFQLrFjaJj7120uuhQzs9w4DMbxZB9FmwquxMwsPw6DcRxzcA8dcvNSM5vaHAbj6O7q5Mg5s1jmi8hmNoVNOAwkfX0i46aiStl9FJnZ1DaZI4NnZAckdQIn1rec5jRQLrFy3Wa27RwquhQzs1yMGwaSLpC0EXimpA3payOwFvhh7hU2gUpfieGAFWt9EdnMpqZxwyAiPhYRJeCTEbF/+ipFxJyIuKABNRZuIG1RtHytTxWZ2dQ0mdNEP5Y0C0DSGyVdJOnInOpqKv1zZ9HVKTcvNbMpazJh8AVgi6TjgfcD9wOX51JVk+nq7ODoXl9ENrOpazJhsCt9EM1ZwKcj4tNAKZ+ymk+lXHIfRWY2ZU0mDDZKugB4I3B12pqoK5+yms9AX4kHH9/Kxm07iy7FzKzuJhMGrwW2A+dExMPAPOCTuVTVhCq7LyL7uoGZTT0TDoOIeDgiLoqIm9LhByKiLa4ZQOZBNz5VZGZT0LTxZpD0q4h4XnpvQWQnkTzPfv/cqmsihx+4H91dHe6jyMympHHDICKel/5sm4vFI+noEJVyyS2KzGxKmsiRwUFjTY+Ix+pXTnOrlEtcv3Sw6DLMzOpu3DAAlpCcHtII0wI4qq4VNbGBcomrlqzmsc07OGjW9KLLMTOrm4l0R/G0iDgq/Vn72h0Ekp5R+1lJl0haK+nOkZYt6YWSnpB0a/r64L5tTr4qfcmZMp8qMrOppp7PMxipO+vLgDPG+dxNEXFC+vpIHeupu2ofRQ4DM5tq6hkGe51GiogbgSlzTaG8/wz2757mO5HNbMqpZxjE+LOM6DmSbpP0k5FONVVJOlfSYkmLBweLuYgriYE+tygys6mn6Mde3gIcGRHHA58FfjDajBFxcUQsiIgFvb29DSuwVrWPoqSbJjOzqaGeYbBjsh+IiA0RsSl9fw3QJWluHWuqu0q5xIZtu3hkw/aiSzEzq5vJPAP51LGeZxARp0x25ZL6JCl9f3Jaz7rJLqeRqn0U+U5kM5tKcn2egaQrgN8AA5JWSzpH0l9L+ut0llcDd0q6DfgMcHY0+fkX91FkZlPRRG46q9oVESGp+jyDr0p6y1gfiIjXjTP9c8DnJlFD4eb0zGBuzwwfGZjZlDKZMMg+z+AF7fY8g6yBvh6WOwzMbArx8wyegqTDuk0MDzf1GS0zswmb1JEByemhIUkV4FjginzKam4D5RJbdw6xev1WjpizX9HlmJnts8kcGdwIzJA0D/gF8DaS7ibaTrWPIl83MLOpYjJhoIjYArwS+GxE/A9g1DuGp7L5B6ctihwGZjZFTCoMJD0HeANwdTqus/4lNb9SdxfzZs90H0VmNmVMJgzOBy4Avh8Rd0k6Crgun7KaX6Xc4yMDM5syJnwBOSJuAG7IDN8LnJdHUa2g0lfiVyseZefQMF2dRXfxZGa2bybTHcW1kmZnhg+U9LN8ymp+A+USO4eClY9uLroUM7N9Npld2t6IeLw6EBHrgXL9S2oN7qPIzKaSyYTBkKQjqgNpJ3XD9S+pNRxzcA8dgmWPbCq6FDOzfTaZm84uBG6SdGM6/ALg3PqX1Bq6uzrpnzPLHdaZ2ZQwmTB4I/B5YCuwEnhPRDyaR1GtIumWwmFgZq1vMqeJLgW6gTOBTwFfkvTuXKpqEZW+EivXbWbbzqGiSzEz2ycTDoOI+CXwT8D/Bb4CLADenlNdLWGgXGI4YMVaXzcws9Y2maalvwB+TdJ76VLgpIg4Nq/CWsFAn7ulMLOpYTKniW4nec7xccAzgeMkzcylqhZx5JxZdHXKzUvNrOVN5g7k9wBI6iHpsfRSoA+YkU9pza+rs4Oje3vcosjMWt6Ew0DSO4HnAyeSPP/4EuCmnOpqGZVyiSX3ry+6DDOzfTKZpqUzgYuAJRGxK6d6Ws5AX4mFt61h47adlLrb8imgZjYFTKY10ScjYpGDYE/VbimWu0WRmbUwd7e5jwbSMPB1AzNrZQ6DfXTYgTOZ2dXpFkVm1tIcBvuoo0N+0I2ZtTyHQR1UyiWWPuxrBmbWunINA0mXSFor6c5RpkvSZyStkHS7pGfnWU9eBvpKPLppO+s2bS+6FDOzpyTvI4PLgDPGmP6nwPz0dS7whZzrycX86kVkP9vAzFpUrmEQETcCj40xy1nA5ZH4LTBb0iF51pSH3S2KfN3AzFpU0dcM5gGrMsOr03F7kXSupMWSFg8ODjakuIkq7z+D/bunuUWRmbWsosNAI4yLkWaMiIsjYkFELOjt7c25rMmRxEBfyfcamFnLKjoMVgOHZ4YPA9YUVMs+qT71LGLELDMza2pFh8FC4M1pq6JTgCci4qGCa3pKBvpKbNi2i0c2uEWRmbWeyXRUN2mSrgBeCMyVtBr4ENAFEBFfBK4BXgasALaQdI3dkqp9FC19ZCN9B3QXXI2Z2eTkGgYR8bpxpgfwjjxraJRKpo+i0yrNdU3DzGw8RZ8mmjIOmjWd3tIMtygys5bkMKgj91FkZq3KYVBH1RZFw8NuUWRmrcVhUEcD5RLbdg6zav2WoksxM5sUh0EdVfrSFkW++czMWozDoI7mH9wDuI8iM2s9DoM6KnV3MW/2TPdeamYtx2FQZwN9JR8ZmFnLcRjUWaVc4p7BTewcGi66FDOzCXMY1NlAXw87h4KVj24uuhQzswlzGNRZto8iM7NW4TCos6N7e+gQfraBmbUUh0GddXd10j9nlo8MzKylOAxykHRL4ealZtY6HAY5qPSVWLluM9t2DhVdipnZhDgMcjBQLhEBK9b66MDMWoPDIAcDfe6Wwsxai8MgB0fOmcX0zg5fRDazluEwyEFXZwdH9c5y81IzaxkOg5wkfRT5moGZtQaHQU4q5RIPPr6Vjdt2Fl2Kmdm4HAY5qXZL4aMDM2sFDoOcDOwOA183MLPm5zDIyWEHzmRmV6cfgWlmLSH3MJB0hqSlklZI+sAI098qaVDSrenrr/KuqRE6OkSl3OMjAzNrCdPyXLikTuDzwJ8Aq4GbJS2MiD/UzPrtiHhnnrUUoVIucd3StUWXYWY2rryPDE4GVkTEvRGxA/gWcFbO62waA30lHt20g3WbthddipnZmPIOg3nAqszw6nRcrVdJul3SVZIOH2lBks6VtFjS4sHBwTxqrTu3KDKzVpF3GGiEcVEz/COgPyKeCfwH8LWRFhQRF0fEgohY0NvbW+cy8zHQ5xZFZtYa8g6D1UB2T/8wYE12hohYFxHV8yhfBk7MuaaGObg0gwNmdrmPIjNrenmHwc3AfElPkzQdOBtYmJ1B0iGZwTOBu3OuqWEkMVAuuY8iM2t6uYZBROwC3gn8jOSX/JURcZekj0g6M53tPEl3SboNOA94a541Ndr8cg9LH9lIRO3ZMTOz5pFr01KAiLgGuKZm3Acz7y8ALsi7jqIM9JXYuGgXD2/YxiEHzCy6HDOzEfkO5JxVWxT5TmQza2YOg5xV3EeRmbUAh0HODpo1nd7SDJY+7HsNzKx5OQwaYKBcYvlaHxmYWfNyGDRApVxi2SMbGR52iyIza04OgwYY6Oth285hVq3fUnQpZmYjchg0gFsUmVmzcxg0wHy3KDKzJucwaICeGdOYN3smS917qZk1KYdBgwz0uY8iM2teDoMGqZRL3DO4iR27hosuxcxsLw6DBhno62HXcLBy3eaiSzEz24vDoEHcosjMmpnDoEGO7u2hQ7DcLYrMrAk5DBqku6uT/rmz/NQzM2tKDoMGGiiXWObmpWbWhBwGDVQpl1i5bjPbdg4VXYqZ2R4cBg000FciAlas9dGBmTUXh0EDVco9gFsUmVnzcRg00JFzZjG9s8N9FJlZ03EYNFBXZwdH9bpFkZk1H4dBg7mPIjNrRg6DBquUS6x5Yhsbtu0suhQzs90cBg02kHZLsdz3G5hZE3EYNNhAnx90Y2bNJ/cwkHSGpKWSVkj6wAjTZ0j6djp9kaT+vGsq0rzZM9lveqebl5pZU5mW58IldQKfB/4EWA3cLGlhRPwhM9s5wPqIOEbS2cAngNfmWVeROjrE/HKJJfev5/qla+mQ0hco/dnRkR0WguSnkp8dHdR8Jv1cdp7aZVaXlflsh7S7LgmE0p/Vccm6lS7HzKauXMMAOBlYERH3Akj6FnAWkA2Ds4APp++vAj4nSREROddWmGfOO4Cv//Z+3nrpzUWX8pRUA6MaELsDoxoj2ntc9jO7YyU7riZrsoPZIKqNpD0/p1GnaZTxyTSNOm209dbWNREjzT76+ia+7MmUMdlIr8dOQF12I/ZxIfWooVl2iN5+2tG86sTD6r7cvMNgHrAqM7wa+OPR5omIXZKeAOYAj2ZnknQucC7AEUcckVe9DfG3L386rzrxMIYjiAiGA4aHk5+7hyPS6dX37DF/TGCe4cgsczg7Pfk5lOZtNXYjnQYQ6fhgz3FE7J6WjIt0vj3HpX/2WO5In6tOz8oOZScFNfPtMY1Rp2Wn1u5ijLX80T4z0vrGmnfUZY8678RNZp9psntX9dgdq8ce3b7uF9Zlr7KJdk0PnNWVy3LzDoORorT2a53IPETExcDFAAsWLGiiv5rJ6+7q5ITDZxddhpnZbnlfQF4NHJ4ZPgxYM9o8kqYBBwCP5VyXmZll5B0GNwPzJT1N0nTgbGBhzTwLgbek718N/HIqXy8wM2tGuZ4mSq8BvBP4GdAJXBIRd0n6CLA4IhYCXwW+LmkFyRHB2XnWZGZme8v7mgERcQ1wTc24D2bebwNek3cdZmY2Ot+BbGZmDgMzM3MYmJkZDgMzMwPUiq04JQ0C9xddxz6aS81d1m3O38eT/F3syd/Hnvbl+zgyInpHmtCSYTAVSFocEQuKrqNZ+Pt4kr+LPfn72FNe34dPE5mZmcPAzMwcBkW6uOgCmoy/jyf5u9iTv4895fJ9+JqBmZn5yMDMzBwGZmaGw6DhJB0u6TpJd0u6S9K7i66paJI6Jf1e0o+LrqVokmZLukrSf6X/Rp5TdE1FkvSe9P/JnZKukNRddE2NJOkSSWsl3ZkZd5CkayUtT38eWI91OQwabxfw3oh4OnAK8A5Jf1RwTUV7N3B30UU0iU8DP42IY4HjaePvRdI84DxgQUQcR9INfrt1cX8ZcEbNuA8Av4iI+cAv0uF95jBosIh4KCJuSd9vJPnPPq/Yqooj6TDg5cBXiq6laJL2B15A8owPImJHRDxebFWFmwbMTJ+CuB97PylxSouIG9n7yY9nAV9L338N+PN6rMthUCBJ/cCzgEXFVlKoTwHvB4aLLqQJHAUMApemp82+ImlW0UUVJSIeBP4FeAB4CHgiIn5ebFVNoRwRD0GycwkcXI+FOgwKIqkH+C5wfkRsKLqeIkh6BbA2IpYUXUuTmAY8G/hCRDwL2EydTgG0ovRc+FnA04BDgVmS3lhsVVOXw6AAkrpIguCbEfG9ousp0KnAmZJWAt8CXizpG8WWVKjVwOqIqB4pXkUSDu3qdOC+iBiMiJ3A94DnFlxTM3hE0iEA6c+19Viow6DBJInknPDdEXFR0fUUKSIuiIjDIqKf5MLgLyOibff8IuJhYJWkgXTUS4A/FFhS0R4ATpG0X/r/5iW08QX1jIXAW9L3bwF+WI+F5v4MZNvLqcCbgDsk3ZqOuzB9VrTZu4BvSpoO3Au8reB6ChMRiyRdBdxC0grv97RZ1xSSrgBeCMyVtBr4EPBx4EpJ55AEZl2eIe/uKMzMzKeJzMzMYWBmZjgMzMwMh4GZmeEwMDMzHAZWIEkh6V8zw++T9OE6LfsySa+ux7LGWc9r0t5Fr8uzLkn9kl4/+QrHXOZVko5K328aYXqvpJ/Wc53WvBwGVqTtwCslzS26kCxJnZOY/ZZsI/MAAAPbSURBVBzgf0fEi/KqJ9UPTCoMxtoOSc8AOiPi3tHmiYhB4CFJp05mvdaaHAZWpF0kNxG9p3ZC7R50dc9V0gsl3SDpSknLJH1c0hsk/U7SHZKOzizmdEk3pfO9Iv18p6RPSrpZ0u2S/ldmuddJ+nfgjhHqeV26/DslfSId90HgecAXJX1yhM+8P/3MbZI+PsL0ldUglLRA0vXp+9Mk3Zq+fi+pRHKj0fPTce+Z6HZImiXp6rSGOyW9Nl39GxjhzlVJcyX9RtLL01E/SOe1Kc53IFvRPg/cLumfJ/GZ44Gnk3Ttey/wlYg4WcmDgt4FnJ/O1w+cBhwNXCfpGODNJL1fniRpBvBrSdWeME8GjouI+7Irk3Qo8AngRGA98HNJfx4RH5H0YuB9EbG45jN/StK18B9HxBZJB01i+94HvCMifp12aLiNpMO690VENdTOnch2SHoVsCYiXp5+7oB0nlOBK2pqLpN0dfB3EXFtOnox8I+TqN1alI8MrFBpj62XkzzEZKJuTp8LsR24B6j+EryDJACqroyI4YhYThIaxwL/HXhz2hXIImAOMD+d/3e1QZA6Cbg+7TBtF/BNkucOjOV04NKI2JJuZ22f9GP5NXCRpPOA2ek6a010O+4gOUL6hKTnR8QT6fhDSLrLruoieVDK+zNBAEknaIdOonZrUQ4DawafIjn3nu27fxfpv8+0k7LpmWnbM++HM8PD7Hm0W9vXSgAC3hURJ6Svp2X6yN88Sn2a6IbUfGa8vl52byOw+3GOEfFx4K+AmcBvJR07yvLH3Y6IWEZyRHMH8LH01BbA1uw601qWAC+tWU93Oq9NcQ4DK1y613wlSSBUrST5JQZJn/ZdT2HRr5HUkV5HOApYCvwMeLuSbsSRVNH4D5BZBJyWnk/vBF4H3DDOZ34O/KWk/dL1jHSaaCVPbuOrqiMlHR0Rd0TEJ0hO0xwLbARKmc9OaDvSU1xbIuIbJA+KqXaJfTdwTGbWAP4SOFZS9hkKFeBObMrzNQNrFv8KvDMz/GXgh5J+R3L6YrS99rEsJfmlXQb+OiK2SfoKyamkW9IjjkHGeWxgRDwk6QLgOpI98msiYsxugyPip5JOABZL2gFcA1xYM9vfA1+VdCF7Pu3ufEkvAoZIurD+CclRzy5Jt5E8F/fTE9yO/wZ8UtIwsBN4ezr+apLeMP8jU/OQpLOBH0naEBH/BrwondemOPdaataGJM0kCbdTI2JojPluBM6KiPUNK84K4TAwa1OSXkrykKUHRpneSxIWP2hsZVYEh4GZmfkCspmZOQzMzAyHgZmZ4TAwMzMcBmZmBvx/y54/VfGHExgAAAAASUVORK5CYII=\n",
      "text/plain": [
       "<Figure size 432x288 with 1 Axes>"
      ]
     },
     "metadata": {
      "needs_background": "light"
     },
     "output_type": "display_data"
    }
   ],
   "source": [
    "import numpy as nm        \n",
    "import pandas as pd  \n",
    "\n",
    "\n",
    "x = df.iloc[:, [1, 2]].values  \n",
    "\n",
    "#finding optimal number of clusters using the elbow method  \n",
    "from sklearn.cluster import KMeans  \n",
    "wcss_list= []  #Initializing the list for the values of WCSS  \n",
    "  \n",
    "#Using for loop for iterations from 1 to 10.  \n",
    "for i in range(1,11):  \n",
    "    kmeans = KMeans(n_clusters=i, init='k-means++', random_state= 42)  \n",
    "    kmeans.fit(x)  \n",
    "    wcss_list.append(kmeans.inertia_)  \n",
    "plt.plot(range(1, 11), wcss_list)  \n",
    "plt.title('The Elobw Method Graph')  \n",
    "plt.xlabel('Number of clusters(k)')  \n",
    "plt.ylabel('wcss_list')  \n",
    "plt.show()  "
   ]
  },
  {
   "cell_type": "code",
   "execution_count": 52,
   "metadata": {},
   "outputs": [
    {
     "ename": "TypeError",
     "evalue": "'int' object is not callable",
     "output_type": "error",
     "traceback": [
      "\u001b[1;31m---------------------------------------------------------------------------\u001b[0m",
      "\u001b[1;31mTypeError\u001b[0m                                 Traceback (most recent call last)",
      "\u001b[1;32m<ipython-input-52-7eea1e446310>\u001b[0m in \u001b[0;36m<module>\u001b[1;34m\u001b[0m\n\u001b[0;32m     11\u001b[0m \u001b[1;33m\u001b[0m\u001b[0m\n\u001b[0;32m     12\u001b[0m \u001b[0msum_ratio\u001b[0m \u001b[1;33m=\u001b[0m \u001b[1;36m0.0\u001b[0m\u001b[1;33m\u001b[0m\u001b[1;33m\u001b[0m\u001b[0m\n\u001b[1;32m---> 13\u001b[1;33m \u001b[0mlengthCSV\u001b[0m \u001b[1;33m=\u001b[0m \u001b[0mlen\u001b[0m\u001b[1;33m(\u001b[0m\u001b[0mdf\u001b[0m\u001b[1;33m)\u001b[0m\u001b[1;33m\u001b[0m\u001b[1;33m\u001b[0m\u001b[0m\n\u001b[0m\u001b[0;32m     14\u001b[0m \u001b[1;32mfor\u001b[0m \u001b[0mi\u001b[0m \u001b[1;32min\u001b[0m \u001b[0mrange\u001b[0m\u001b[1;33m(\u001b[0m\u001b[0mlengthCSV\u001b[0m\u001b[1;33m)\u001b[0m \u001b[1;33m:\u001b[0m\u001b[1;33m\u001b[0m\u001b[1;33m\u001b[0m\u001b[0m\n\u001b[0;32m     15\u001b[0m     \u001b[1;32mif\u001b[0m \u001b[0mdf\u001b[0m\u001b[1;33m.\u001b[0m\u001b[0miloc\u001b[0m\u001b[1;33m[\u001b[0m\u001b[0mi\u001b[0m\u001b[1;33m,\u001b[0m \u001b[1;36m3\u001b[0m\u001b[1;33m]\u001b[0m \u001b[1;33m!=\u001b[0m \u001b[1;36m0\u001b[0m \u001b[1;33m:\u001b[0m\u001b[1;33m\u001b[0m\u001b[1;33m\u001b[0m\u001b[0m\n",
      "\u001b[1;31mTypeError\u001b[0m: 'int' object is not callable"
     ]
    }
   ],
   "source": [
    "f_path = \"/Users/Naor/Desktop/matala 1/conn_attack.csv\"\n",
    "\n",
    "\n",
    "df = pd.read_csv(f_path,names=[\"record ID\",\"duration\", \"src_bytes\",\"dst_bytes\"], header=None)\n",
    "\n",
    "ratio = []\n",
    "\n",
    "\n",
    "dt_mean = df[\"duration\"].mean()\n",
    "dt_std = df[\"duration\"].std()\n",
    "\n",
    "sum_ratio = 0.0\n",
    "lengthCSV = len(df)\n",
    "for i in range(lengthCSV) :\n",
    "    if df.iloc[i, 3] != 0 :\n",
    "      ratio.append(df.iloc[i, 2]/df.iloc[i, 3])\n",
    "      sum_ratio += (df.iloc[i, 2]/df.iloc[i, 3])\n",
    "\n",
    "\n",
    "# Print standard deviation\n",
    "print(\"Standard Deviation of duration is: \" + str(dt_std))\n",
    "print(\"duration mean : \" + str(dt_mean))\n",
    "\n",
    "ratio_std = statistics.stdev(ratio)\n",
    "ratio_mean = sum_ratio/lengthCSV\n",
    "\n",
    "print(\"Standard Deviation of ratio is :\"+str(ratio_std))\n",
    "print(\"ratio mean : \" + str(ratio_mean))\n",
    "\n",
    "index = []\n",
    "for i in range(lengthCSV) :\n",
    "    if (df.iloc[i, 1]>dt_mean+dt_std or df.iloc[i, 1]<dt_mean-dt_std) and (ratio[i]>ratio_mean+ratio_std or ratio[i]<ratio_mean-ratio_std):\n",
    "      index.append(df.iloc[i,0])\n",
    "print(index)\n"
   ]
  },
  {
   "cell_type": "code",
   "execution_count": null,
   "metadata": {},
   "outputs": [],
   "source": []
  },
  {
   "cell_type": "code",
   "execution_count": null,
   "metadata": {},
   "outputs": [],
   "source": []
  }
 ],
 "metadata": {
  "kernelspec": {
   "display_name": "Python 3",
   "language": "python",
   "name": "python3"
  },
  "language_info": {
   "codemirror_mode": {
    "name": "ipython",
    "version": 3
   },
   "file_extension": ".py",
   "mimetype": "text/x-python",
   "name": "python",
   "nbconvert_exporter": "python",
   "pygments_lexer": "ipython3",
   "version": "3.7.6"
  }
 },
 "nbformat": 4,
 "nbformat_minor": 4
}
