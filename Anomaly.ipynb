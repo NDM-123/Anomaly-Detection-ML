{
 "cells": [
  {
   "cell_type": "code",
   "execution_count": 55,
   "metadata": {},
   "outputs": [],
   "source": [
    "# Imports\n",
    "%matplotlib inline\n",
    "import pandas as pd\n",
    "import numpy as np\n",
    "import matplotlib.pyplot as plt\n",
    "import seaborn as sns\n",
    "from scipy.stats import norm\n",
    "from sklearn.preprocessing import StandardScaler,MinMaxScaler\n",
    "from scipy import stats\n",
    "import statistics\n",
    "import warnings\n"
   ]
  },
  {
   "cell_type": "code",
   "execution_count": 56,
   "metadata": {},
   "outputs": [],
   "source": [
    "# file path - this for linux windows you will need \"//\"\n",
    "f_path = \"conn_attack.csv\"\n",
    "\n",
    "df = pd.read_csv(f_path,names=[\"record ID\",\"duration_\", \"src_bytes\",\"dst_bytes\"], header=None)"
   ]
  },
  {
   "cell_type": "code",
   "execution_count": 57,
   "metadata": {},
   "outputs": [],
   "source": [
    "df=df.dropna()"
   ]
  },
  {
   "cell_type": "code",
   "execution_count": 58,
   "metadata": {},
   "outputs": [
    {
     "data": {
      "text/html": [
       "<div>\n",
       "<style scoped>\n",
       "    .dataframe tbody tr th:only-of-type {\n",
       "        vertical-align: middle;\n",
       "    }\n",
       "\n",
       "    .dataframe tbody tr th {\n",
       "        vertical-align: top;\n",
       "    }\n",
       "\n",
       "    .dataframe thead th {\n",
       "        text-align: right;\n",
       "    }\n",
       "</style>\n",
       "<table border=\"1\" class=\"dataframe\">\n",
       "  <thead>\n",
       "    <tr style=\"text-align: right;\">\n",
       "      <th></th>\n",
       "      <th>record ID</th>\n",
       "      <th>duration_</th>\n",
       "      <th>src_bytes</th>\n",
       "      <th>dst_bytes</th>\n",
       "    </tr>\n",
       "  </thead>\n",
       "  <tbody>\n",
       "    <tr>\n",
       "      <th>0</th>\n",
       "      <td>1</td>\n",
       "      <td>0</td>\n",
       "      <td>236</td>\n",
       "      <td>1228</td>\n",
       "    </tr>\n",
       "    <tr>\n",
       "      <th>1</th>\n",
       "      <td>2</td>\n",
       "      <td>0</td>\n",
       "      <td>239</td>\n",
       "      <td>486</td>\n",
       "    </tr>\n",
       "    <tr>\n",
       "      <th>2</th>\n",
       "      <td>3</td>\n",
       "      <td>0</td>\n",
       "      <td>234</td>\n",
       "      <td>1364</td>\n",
       "    </tr>\n",
       "    <tr>\n",
       "      <th>3</th>\n",
       "      <td>4</td>\n",
       "      <td>0</td>\n",
       "      <td>239</td>\n",
       "      <td>1295</td>\n",
       "    </tr>\n",
       "    <tr>\n",
       "      <th>4</th>\n",
       "      <td>5</td>\n",
       "      <td>0</td>\n",
       "      <td>181</td>\n",
       "      <td>5450</td>\n",
       "    </tr>\n",
       "  </tbody>\n",
       "</table>\n",
       "</div>"
      ],
      "text/plain": [
       "   record ID  duration_  src_bytes  dst_bytes\n",
       "0          1          0        236       1228\n",
       "1          2          0        239        486\n",
       "2          3          0        234       1364\n",
       "3          4          0        239       1295\n",
       "4          5          0        181       5450"
      ]
     },
     "execution_count": 58,
     "metadata": {},
     "output_type": "execute_result"
    }
   ],
   "source": [
    "df.head()"
   ]
  },
  {
   "cell_type": "code",
   "execution_count": 59,
   "metadata": {},
   "outputs": [
    {
     "data": {
      "text/html": [
       "<div>\n",
       "<style scoped>\n",
       "    .dataframe tbody tr th:only-of-type {\n",
       "        vertical-align: middle;\n",
       "    }\n",
       "\n",
       "    .dataframe tbody tr th {\n",
       "        vertical-align: top;\n",
       "    }\n",
       "\n",
       "    .dataframe thead th {\n",
       "        text-align: right;\n",
       "    }\n",
       "</style>\n",
       "<table border=\"1\" class=\"dataframe\">\n",
       "  <thead>\n",
       "    <tr style=\"text-align: right;\">\n",
       "      <th></th>\n",
       "      <th>record ID</th>\n",
       "      <th>duration_</th>\n",
       "      <th>src_bytes</th>\n",
       "      <th>dst_bytes</th>\n",
       "    </tr>\n",
       "  </thead>\n",
       "  <tbody>\n",
       "    <tr>\n",
       "      <th>count</th>\n",
       "      <td>256670.000000</td>\n",
       "      <td>256670.000000</td>\n",
       "      <td>256670.000000</td>\n",
       "      <td>2.566700e+05</td>\n",
       "    </tr>\n",
       "    <tr>\n",
       "      <th>mean</th>\n",
       "      <td>128335.500000</td>\n",
       "      <td>0.640936</td>\n",
       "      <td>474.247898</td>\n",
       "      <td>4.473533e+03</td>\n",
       "    </tr>\n",
       "    <tr>\n",
       "      <th>std</th>\n",
       "      <td>74094.391134</td>\n",
       "      <td>15.627170</td>\n",
       "      <td>3391.106084</td>\n",
       "      <td>2.080903e+04</td>\n",
       "    </tr>\n",
       "    <tr>\n",
       "      <th>min</th>\n",
       "      <td>1.000000</td>\n",
       "      <td>0.000000</td>\n",
       "      <td>0.000000</td>\n",
       "      <td>0.000000e+00</td>\n",
       "    </tr>\n",
       "    <tr>\n",
       "      <th>25%</th>\n",
       "      <td>64168.250000</td>\n",
       "      <td>0.000000</td>\n",
       "      <td>217.000000</td>\n",
       "      <td>6.600000e+02</td>\n",
       "    </tr>\n",
       "    <tr>\n",
       "      <th>50%</th>\n",
       "      <td>128335.500000</td>\n",
       "      <td>0.000000</td>\n",
       "      <td>249.000000</td>\n",
       "      <td>1.661000e+03</td>\n",
       "    </tr>\n",
       "    <tr>\n",
       "      <th>75%</th>\n",
       "      <td>192502.750000</td>\n",
       "      <td>0.000000</td>\n",
       "      <td>306.000000</td>\n",
       "      <td>4.341000e+03</td>\n",
       "    </tr>\n",
       "    <tr>\n",
       "      <th>max</th>\n",
       "      <td>256670.000000</td>\n",
       "      <td>3289.000000</td>\n",
       "      <td>54540.000000</td>\n",
       "      <td>7.068759e+06</td>\n",
       "    </tr>\n",
       "  </tbody>\n",
       "</table>\n",
       "</div>"
      ],
      "text/plain": [
       "           record ID      duration_      src_bytes     dst_bytes\n",
       "count  256670.000000  256670.000000  256670.000000  2.566700e+05\n",
       "mean   128335.500000       0.640936     474.247898  4.473533e+03\n",
       "std     74094.391134      15.627170    3391.106084  2.080903e+04\n",
       "min         1.000000       0.000000       0.000000  0.000000e+00\n",
       "25%     64168.250000       0.000000     217.000000  6.600000e+02\n",
       "50%    128335.500000       0.000000     249.000000  1.661000e+03\n",
       "75%    192502.750000       0.000000     306.000000  4.341000e+03\n",
       "max    256670.000000    3289.000000   54540.000000  7.068759e+06"
      ]
     },
     "execution_count": 59,
     "metadata": {},
     "output_type": "execute_result"
    }
   ],
   "source": [
    "df.describe()"
   ]
  },
  {
   "cell_type": "code",
   "execution_count": 50,
   "metadata": {},
   "outputs": [],
   "source": [
    "# import matplotlib.pyplot as plt\n",
    "# from sklearn.model_selection import cross_val_score\n",
    "# from sklearn.model_selection import RepeatedStratifiedKFold\n",
    "# from sklearn.neighbors import KNeighborsClassifier\n",
    "# from sklearn.pipeline import Pipeline\n",
    "\n",
    "# x = df.iloc[:,1:2]\n",
    "# y = df.iloc[:,0]\n",
    "\n",
    "\n",
    "# plt.scatter(x, y)\n",
    "# plt.show()\n",
    "\n",
    "\n",
    "\n",
    "# # define the pipeline\n",
    "# trans = MinMaxScaler()\n",
    "# model = KNeighborsClassifier()\n",
    "# pipeline = Pipeline(steps=[('t', trans), ('m', model)])\n",
    "# # evaluate the pipeline\n",
    "# cv = RepeatedStratifiedKFold(n_splits=10, n_repeats=3, random_state=1)\n",
    "# n_scores = cross_val_score(pipeline, x, y, scoring='accuracy', cv=cv, n_jobs=-1, error_score='raise')\n",
    "# # report pipeline performance\n",
    "# print('Accuracy: %.3f (%.3f)' % (mean(n_scores), std(n_scores)))"
   ]
  },
  {
   "cell_type": "code",
   "execution_count": 25,
   "metadata": {
    "scrolled": true
   },
   "outputs": [
    {
     "data": {
      "image/png": "[encoded data removed]",
      "text/plain": [
       "<Figure size 432x288 with 1 Axes>"
      ]
     },
     "metadata": {
      "needs_background": "light"
     },
     "output_type": "display_data"
    }
   ],
   "source": [
    "x = df.iloc[:,2:3]\n",
    "y = df.iloc[:,0]\n",
    "plt.scatter(x, y)\n",
    "plt.show()"
   ]
  },
  {
   "cell_type": "code",
   "execution_count": 26,
   "metadata": {},
   "outputs": [
    {
     "data": {
      "image/png": "[encoded data removed]",
      "text/plain": [
       "<Figure size 432x288 with 1 Axes>"
      ]
     },
     "metadata": {
      "needs_background": "light"
     },
     "output_type": "display_data"
    }
   ],
   "source": [
    "x = df.iloc[:,3:4]\n",
    "y = df.iloc[:,0]\n",
    "plt.scatter(x, y)\n",
    "plt.show()"
   ]
  },
  {
   "cell_type": "code",
   "execution_count": null,
   "metadata": {},
   "outputs": [],
   "source": []
  },
  {
   "cell_type": "code",
   "execution_count": 27,
   "metadata": {},
   "outputs": [
    {
     "data": {
      "image/png": "[encoded data removed]",
      "text/plain": [
       "<Figure size 432x288 with 1 Axes>"
      ]
     },
     "metadata": {
      "needs_background": "light"
     },
     "output_type": "display_data"
    }
   ],
   "source": [
    "import numpy as nm        \n",
    "import pandas as pd  \n",
    "\n",
    "\n",
    "x = df.iloc[:, [1, 2]].values  \n",
    "\n",
    "#finding optimal number of clusters using the elbow method  \n",
    "from sklearn.cluster import KMeans  \n",
    "wcss_list= []  #Initializing the list for the values of WCSS  \n",
    "  \n",
    "#Using for loop for iterations from 1 to 10.  \n",
    "for i in range(1,11):  \n",
    "    kmeans = KMeans(n_clusters=i, init='k-means++', random_state= 42)  \n",
    "    kmeans.fit(x)  \n",
    "    wcss_list.append(kmeans.inertia_)  \n",
    "plt.plot(range(1, 11), wcss_list)  \n",
    "plt.title('The Elobw Method Graph')  \n",
    "plt.xlabel('Number of clusters(k)')  \n",
    "plt.ylabel('wcss_list')  \n",
    "plt.show()  "
   ]
  },
  {
   "cell_type": "code",
   "execution_count": 28,
   "metadata": {},
   "outputs": [
    {
     "name": "stdout",
     "output_type": "stream",
     "text": [
      "Standard Deviation of duration is: 15.627170079019622\n",
      "duration mean : 0.6409358320021817\n",
      "Standard Deviation of src_bytes is: 3391.1060841362832\n",
      "duration mean : 474.2478980792457\n",
      "Standard Deviation of dst_bytes is: 20809.034546762265\n",
      "duration mean : 4473.532613862158\n",
      "Standard Deviation of ratio is :0.9178279817228151\n",
      "ratio mean : 0.3201304771892098\n",
      "13134\n"
     ]
    }
   ],
   "source": [
    "#Our algorithm#\n",
    "df = pd.read_csv(f_path,names=[\"record ID\",\"duration\", \"src_bytes\",\"dst_bytes\"], header=None)\n",
    "\n",
    "ratio = []\n",
    "\n",
    "#duration mean + standard deviation\n",
    "dt_mean = df[\"duration\"].mean()\n",
    "dt_std = df[\"duration\"].std()\n",
    "\n",
    "#src_bytes mean + standard deviation\n",
    "src_mean = df[\"src_bytes\"].mean()\n",
    "src_std = df[\"src_bytes\"].std()\n",
    "\n",
    "#dst_bytes mean + standard deviation\n",
    "dst_mean = df[\"dst_bytes\"].mean()\n",
    "dst_std = df[\"dst_bytes\"].std()\n",
    "\n",
    "\n",
    "\n",
    "sum_ratio = 0.0\n",
    "lengthCSV = len(df)\n",
    "for i in range(lengthCSV) :\n",
    "    if df.iloc[i, 3] != 0 :\n",
    "      ratio.append(df.iloc[i, 2]/df.iloc[i, 3])\n",
    "      sum_ratio += (df.iloc[i, 2]/df.iloc[i, 3])\n",
    "    else: \n",
    "        ratio.append(0)\n",
    "   \n",
    "\n",
    "# Print mean standard deviation\n",
    "print(\"Standard Deviation of duration is: \" + str(dt_std))\n",
    "print(\"duration mean : \" + str(dt_mean))\n",
    "\n",
    "# Print mea standard deviation\n",
    "print(\"Standard Deviation of src_bytes is: \" + str(src_std))\n",
    "print(\"duration mean : \" + str(src_mean))\n",
    "\n",
    "# Print mean standard deviation\n",
    "print(\"Standard Deviation of dst_bytes is: \" + str(dst_std))\n",
    "print(\"duration mean : \" + str(dst_mean))\n",
    "\n",
    "\n",
    "ratio_std = statistics.pstdev(ratio)\n",
    "ratio_mean = sum_ratio/lengthCSV\n",
    "\n",
    "print(\"Standard Deviation of ratio is :\"+str(ratio_std))\n",
    "print(\"ratio mean : \" + str(ratio_mean))\n",
    "\n",
    "anomaly = []\n",
    "for i in range(lengthCSV) :\n",
    "      if(df.iloc[i, 1]>dt_mean+dt_std or df.iloc[i, 2]>src_mean+src_std or df.iloc[i, 3]>dst_mean+dst_std or ratio[i]>ratio_mean+ratio_std ):\n",
    "                anomaly.append(df.iloc[i,0])\n",
    "\n",
    "#print(anomaly)\n",
    "print(len(anomaly))\n"
   ]
  },
  {
   "cell_type": "code",
   "execution_count": 29,
   "metadata": {},
   "outputs": [
    {
     "name": "stdout",
     "output_type": "stream",
     "text": [
      "Statistics=926118.990, p=0.000\n",
      "Sample does not look Gaussian (reject H0)\n"
     ]
    }
   ],
   "source": [
    "from scipy.stats import normaltest\n",
    "# normality test\n",
    "stat, p = normaltest(df[\"duration\"])\n",
    "print('Statistics=%.3f, p=%.3f' % (stat, p))\n",
    "# interpret\n",
    "alpha = 0.05\n",
    "if p > alpha:\n",
    "\tprint('Sample looks Gaussian (fail to reject H0)')\n",
    "else:\n",
    "\tprint('Sample does not look Gaussian (reject H0)')"
   ]
  },
  {
   "cell_type": "code",
   "execution_count": null,
   "metadata": {},
   "outputs": [],
   "source": []
  },
  {
   "cell_type": "code",
   "execution_count": 30,
   "metadata": {},
   "outputs": [
    {
     "name": "stdout",
     "output_type": "stream",
     "text": [
      "Statistics=498261.207, p=0.000\n",
      "Sample does not look Gaussian (reject H0)\n"
     ]
    }
   ],
   "source": [
    "from scipy.stats import normaltest\n",
    "# normality test\n",
    "stat, p = normaltest(df[\"src_bytes\"])\n",
    "print('Statistics=%.3f, p=%.3f' % (stat, p))\n",
    "# interpret\n",
    "alpha = 0.05\n",
    "if p > alpha:\n",
    "\tprint('Sample looks Gaussian (fail to reject H0)')\n",
    "else:\n",
    "\tprint('Sample does not look Gaussian (reject H0)')"
   ]
  },
  {
   "cell_type": "code",
   "execution_count": 31,
   "metadata": {},
   "outputs": [
    {
     "name": "stdout",
     "output_type": "stream",
     "text": [
      "Statistics=1268450.734, p=0.000\n",
      "Sample does not look Gaussian (reject H0)\n"
     ]
    }
   ],
   "source": [
    "from scipy.stats import normaltest\n",
    "# normality test\n",
    "stat, p = normaltest(df[\"dst_bytes\"])\n",
    "print('Statistics=%.3f, p=%.3f' % (stat, p))\n",
    "# interpret\n",
    "alpha = 0.05\n",
    "if p > alpha:\n",
    "\tprint('Sample looks Gaussian (fail to reject H0)')\n",
    "else:\n",
    "\tprint('Sample does not look Gaussian (reject H0)')"
   ]
  },
  {
   "cell_type": "code",
   "execution_count": 32,
   "metadata": {},
   "outputs": [],
   "source": [
    "# # QQ Plot\n",
    "# from numpy.random import seed\n",
    "# from numpy.random import randn\n",
    "# from statsmodels.graphics.gofplots import qqplot\n",
    "# from matplotlib import pyplot\n",
    "\n",
    "# # generate univariate observations\n",
    "# data = ratio\n",
    "# # q-q plot\n",
    "# qqplot(data, line='s')\n",
    "# pyplot.show()"
   ]
  },
  {
   "cell_type": "code",
   "execution_count": 33,
   "metadata": {},
   "outputs": [
    {
     "name": "stderr",
     "output_type": "stream",
     "text": [
      "c:\\users\\galba\\appdata\\local\\programs\\python\\python38\\lib\\site-packages\\statsmodels\\graphics\\gofplots.py:993: UserWarning: marker is redundantly defined by the 'marker' keyword argument and the fmt string \"bo\" (-> marker='o'). The keyword argument will take precedence.\n",
      "  ax.plot(x, y, fmt, **plot_style)\n"
     ]
    },
    {
     "data": {
      "image/png": "[encoded data removed]",
      "text/plain": [
       "<Figure size 432x288 with 1 Axes>"
      ]
     },
     "metadata": {
      "needs_background": "light"
     },
     "output_type": "display_data"
    }
   ],
   "source": [
    "# QQ Plot\n",
    "from numpy.random import seed\n",
    "from numpy.random import randn\n",
    "from statsmodels.graphics.gofplots import qqplot\n",
    "from matplotlib import pyplot\n",
    "\n",
    "# generate univariate observations\n",
    "data = df[\"src_bytes\"]\n",
    "# q-q plot\n",
    "qqplot(data, line='s')\n",
    "pyplot.show()"
   ]
  },
  {
   "cell_type": "code",
   "execution_count": 34,
   "metadata": {},
   "outputs": [
    {
     "name": "stderr",
     "output_type": "stream",
     "text": [
      "c:\\users\\galba\\appdata\\local\\programs\\python\\python38\\lib\\site-packages\\statsmodels\\graphics\\gofplots.py:993: UserWarning: marker is redundantly defined by the 'marker' keyword argument and the fmt string \"bo\" (-> marker='o'). The keyword argument will take precedence.\n",
      "  ax.plot(x, y, fmt, **plot_style)\n"
     ]
    },
    {
     "data": {
      "image/png": "[encoded data removed]",
      "text/plain": [
       "<Figure size 432x288 with 1 Axes>"
      ]
     },
     "metadata": {
      "needs_background": "light"
     },
     "output_type": "display_data"
    }
   ],
   "source": [
    "# QQ Plot\n",
    "from numpy.random import seed\n",
    "from numpy.random import randn\n",
    "from statsmodels.graphics.gofplots import qqplot\n",
    "from matplotlib import pyplot\n",
    "\n",
    "# generate univariate observations\n",
    "data = df[\"duration\"]\n",
    "# q-q plot\n",
    "qqplot(data, line='s')\n",
    "pyplot.show()"
   ]
  },
  {
   "cell_type": "code",
   "execution_count": 35,
   "metadata": {},
   "outputs": [
    {
     "name": "stderr",
     "output_type": "stream",
     "text": [
      "c:\\users\\galba\\appdata\\local\\programs\\python\\python38\\lib\\site-packages\\statsmodels\\graphics\\gofplots.py:993: UserWarning: marker is redundantly defined by the 'marker' keyword argument and the fmt string \"bo\" (-> marker='o'). The keyword argument will take precedence.\n",
      "  ax.plot(x, y, fmt, **plot_style)\n"
     ]
    },
    {
     "data": {
      "image/png": "[encoded data removed]",
      "text/plain": [
       "<Figure size 432x288 with 1 Axes>"
      ]
     },
     "metadata": {
      "needs_background": "light"
     },
     "output_type": "display_data"
    }
   ],
   "source": [
    "# QQ Plot\n",
    "from numpy.random import seed\n",
    "from numpy.random import randn\n",
    "from statsmodels.graphics.gofplots import qqplot\n",
    "from matplotlib import pyplot\n",
    "\n",
    "# generate univariate observations\n",
    "data = df[\"dst_bytes\"]\n",
    "# q-q plot\n",
    "qqplot(data, line='45')\n",
    "pyplot.show()"
   ]
  },
  {
   "cell_type": "code",
   "execution_count": 36,
   "metadata": {},
   "outputs": [
    {
     "data": {
      "image/png": "[encoded data removed]",
      "text/plain": [
       "<Figure size 432x288 with 1 Axes>"
      ]
     },
     "metadata": {
      "needs_background": "light"
     },
     "output_type": "display_data"
    }
   ],
   "source": [
    "# histogram plot\n",
    "from numpy.random import seed\n",
    "from numpy.random import randn\n",
    "from matplotlib import pyplot\n",
    "\n",
    "# generate univariate observations\n",
    "data = df[\"duration\"]\n",
    "# histogram plot\n",
    "pyplot.hist(data)\n",
    "pyplot.show()"
   ]
  },
  {
   "cell_type": "code",
   "execution_count": 19,
   "metadata": {},
   "outputs": [
    {
     "data": {
      "image/png": "[encoded data removed]",
      "text/plain": [
       "<Figure size 432x288 with 1 Axes>"
      ]
     },
     "metadata": {
      "needs_background": "light"
     },
     "output_type": "display_data"
    }
   ],
   "source": [
    "# histogram plot\n",
    "from numpy.random import seed\n",
    "from numpy.random import randn\n",
    "from matplotlib import pyplot\n",
    "\n",
    "# generate univariate observations\n",
    "data = df[\"src_bytes\"]\n",
    "# histogram plot\n",
    "pyplot.hist(data)\n",
    "pyplot.show()"
   ]
  },
  {
   "cell_type": "code",
   "execution_count": 20,
   "metadata": {},
   "outputs": [
    {
     "data": {
      "image/png": "[encoded data removed]",
      "text/plain": [
       "<Figure size 432x288 with 1 Axes>"
      ]
     },
     "metadata": {
      "needs_background": "light"
     },
     "output_type": "display_data"
    }
   ],
   "source": [
    "# histogram plot\n",
    "from numpy.random import seed\n",
    "from numpy.random import randn\n",
    "from matplotlib import pyplot\n",
    "\n",
    "# generate univariate observations\n",
    "data = df[\"dst_bytes\"]\n",
    "# histogram plot\n",
    "pyplot.hist(data)\n",
    "pyplot.show()"
   ]
  },
  {
   "cell_type": "code",
   "execution_count": 21,
   "metadata": {},
   "outputs": [
    {
     "data": {
      "image/png": "[encoded data removed]",
      "text/plain": [
       "<Figure size 432x288 with 1 Axes>"
      ]
     },
     "metadata": {
      "needs_background": "light"
     },
     "output_type": "display_data"
    }
   ],
   "source": [
    "# histogram plot\n",
    "from numpy.random import seed\n",
    "from numpy.random import randn\n",
    "from matplotlib import pyplot\n",
    "\n",
    "# generate univariate observations\n",
    "data = ratio\n",
    "# histogram plot\n",
    "pyplot.hist(data)\n",
    "pyplot.show()"
   ]
  },
  {
   "cell_type": "code",
   "execution_count": 22,
   "metadata": {},
   "outputs": [
    {
     "data": {
      "image/png": "[encoded data removed]",
      "text/plain": [
       "<Figure size 432x288 with 1 Axes>"
      ]
     },
     "metadata": {
      "needs_background": "light"
     },
     "output_type": "display_data"
    }
   ],
   "source": [
    "plt.scatter(range(df.shape[0]), np.sort(df['duration'].values))\n",
    "plt.xlabel('index')\n",
    "plt.ylabel('duration')\n",
    "plt.title(\"duration distribution\")\n",
    "sns.despine()"
   ]
  },
  {
   "cell_type": "code",
   "execution_count": 23,
   "metadata": {},
   "outputs": [
    {
     "name": "stderr",
     "output_type": "stream",
     "text": [
      "C:\\Users\\Naor\\anaconda3\\lib\\site-packages\\IPython\\core\\pylabtools.py:132: UserWarning: Creating legend with loc=\"best\" can be slow with large amounts of data.\n",
      "  fig.canvas.print_figure(bytes_io, **kw)\n"
     ]
    },
    {
     "data": {
      "image/png": "[encoded data removed]",
      "text/plain": [
       "<Figure size 720x288 with 1 Axes>"
      ]
     },
     "metadata": {
      "needs_background": "light"
     },
     "output_type": "display_data"
    }
   ],
   "source": [
    "from sklearn.ensemble import IsolationForest\n",
    "\n",
    "isolation_forest = IsolationForest(n_estimators=100)\n",
    "isolation_forest.fit(df['duration'].values.reshape(-1, 1))\n",
    "xx = np.linspace(df['duration'].min(), df['duration'].max(), len(df)).reshape(-1,1)\n",
    "anomaly_score = isolation_forest.decision_function(xx)\n",
    "outlier = isolation_forest.predict(xx)\n",
    "plt.figure(figsize=(10,4))\n",
    "plt.plot(xx, anomaly_score, label='anomaly score')\n",
    "plt.fill_between(xx.T[0], np.min(anomaly_score), np.max(anomaly_score), \n",
    "                 where=outlier==-1, color='r', \n",
    "                 alpha=.4, label='outlier region')\n",
    "plt.legend()\n",
    "plt.ylabel('anomaly score')\n",
    "plt.xlabel('Duration')\n",
    "plt.show();"
   ]
  },
  {
   "cell_type": "code",
   "execution_count": 25,
   "metadata": {},
   "outputs": [
    {
     "ename": "ModuleNotFoundError",
     "evalue": "No module named 'pyod'",
     "output_type": "error",
     "traceback": [
      "\u001b[1;31m---------------------------------------------------------------------------\u001b[0m",
      "\u001b[1;31mModuleNotFoundError\u001b[0m                       Traceback (most recent call last)",
      "\u001b[1;32m<ipython-input-25-c1b903c1ed23>\u001b[0m in \u001b[0;36m<module>\u001b[1;34m\u001b[0m\n\u001b[1;32m----> 1\u001b[1;33m \u001b[1;32mfrom\u001b[0m \u001b[0mpyod\u001b[0m\u001b[1;33m.\u001b[0m\u001b[0mmodels\u001b[0m\u001b[1;33m.\u001b[0m\u001b[0mcblof\u001b[0m \u001b[1;32mimport\u001b[0m \u001b[0mCBLOF\u001b[0m\u001b[1;33m\u001b[0m\u001b[1;33m\u001b[0m\u001b[0m\n\u001b[0m\u001b[0;32m      2\u001b[0m \u001b[1;33m\u001b[0m\u001b[0m\n\u001b[0;32m      3\u001b[0m \u001b[0moutliers_fraction\u001b[0m \u001b[1;33m=\u001b[0m \u001b[1;36m0.01\u001b[0m\u001b[1;33m\u001b[0m\u001b[1;33m\u001b[0m\u001b[0m\n\u001b[0;32m      4\u001b[0m \u001b[0mxx\u001b[0m \u001b[1;33m,\u001b[0m \u001b[0myy\u001b[0m \u001b[1;33m=\u001b[0m \u001b[0mnp\u001b[0m\u001b[1;33m.\u001b[0m\u001b[0mmeshgrid\u001b[0m\u001b[1;33m(\u001b[0m\u001b[0mnp\u001b[0m\u001b[1;33m.\u001b[0m\u001b[0mlinspace\u001b[0m\u001b[1;33m(\u001b[0m\u001b[1;36m0\u001b[0m\u001b[1;33m,\u001b[0m \u001b[1;36m1\u001b[0m\u001b[1;33m,\u001b[0m \u001b[1;36m100\u001b[0m\u001b[1;33m)\u001b[0m\u001b[1;33m,\u001b[0m \u001b[0mnp\u001b[0m\u001b[1;33m.\u001b[0m\u001b[0mlinspace\u001b[0m\u001b[1;33m(\u001b[0m\u001b[1;36m0\u001b[0m\u001b[1;33m,\u001b[0m \u001b[1;36m1\u001b[0m\u001b[1;33m,\u001b[0m \u001b[1;36m100\u001b[0m\u001b[1;33m)\u001b[0m\u001b[1;33m)\u001b[0m\u001b[1;33m\u001b[0m\u001b[1;33m\u001b[0m\u001b[0m\n\u001b[0;32m      5\u001b[0m \u001b[0mclf\u001b[0m \u001b[1;33m=\u001b[0m \u001b[0mCBLOF\u001b[0m\u001b[1;33m(\u001b[0m\u001b[0mcontamination\u001b[0m\u001b[1;33m=\u001b[0m\u001b[0moutliers_fraction\u001b[0m\u001b[1;33m,\u001b[0m\u001b[0mcheck_estimator\u001b[0m\u001b[1;33m=\u001b[0m\u001b[1;32mFalse\u001b[0m\u001b[1;33m,\u001b[0m \u001b[0mrandom_state\u001b[0m\u001b[1;33m=\u001b[0m\u001b[1;36m0\u001b[0m\u001b[1;33m)\u001b[0m\u001b[1;33m\u001b[0m\u001b[1;33m\u001b[0m\u001b[0m\n",
      "\u001b[1;31mModuleNotFoundError\u001b[0m: No module named 'pyod'"
     ]
    }
   ],
   "source": [
    "#In order for this to work you need to install this module\n",
    "#pip install pyod  or\n",
    "#git clone https://github.com/yzhao062/pyod.git\n",
    "#cd pyod\n",
    "#pip install .\n",
    "#from:\n",
    "#https://github.com/yzhao062/pyod\n",
    "\n",
    "from pyod.models.cblof import CBLOF\n",
    "\n",
    "outliers_fraction = 0.01\n",
    "xx , yy = np.meshgrid(np.linspace(0, 1, 100), np.linspace(0, 1, 100))\n",
    "clf = CBLOF(contamination=outliers_fraction,check_estimator=False, random_state=0)\n",
    "clf.fit(X)\n",
    "scores_pred = clf.decision_function(X) * -1\n",
    "y_pred = clf.predict(X)\n",
    "n_inliers = len(y_pred) - np.count_nonzero(y_pred)\n",
    "n_outliers = np.count_nonzero(y_pred == 1)\n",
    "\n",
    "plt.figure(figsize=(8, 8))\n",
    "\n",
    "df1 = df\n",
    "df1['outlier'] = y_pred.tolist()\n",
    "    \n",
    "# sales - inlier feature 1,  profit - inlier feature 2\n",
    "inliers_sales = np.array(df1['src_bytes'][df1['outlier'] == 0]).reshape(-1,1)\n",
    "inliers_profit = np.array(df1['dst_bytes'][df1['outlier'] == 0]).reshape(-1,1)\n",
    "    \n",
    "# sales - outlier feature 1, profit - outlier feature 2\n",
    "outliers_sales = df1['src_bytes'][df1['outlier'] == 1].values.reshape(-1,1)\n",
    "outliers_profit = df1['dst_bytes'][df1['outlier'] == 1].values.reshape(-1,1)\n",
    "         \n",
    "print('OUTLIERS:',n_outliers,'INLIERS:',n_inliers)\n",
    "threshold = percentile(scores_pred, 100 * outliers_fraction)        \n",
    "Z = clf.decision_function(np.c_[xx.ravel(), yy.ravel()]) * -1\n",
    "Z = Z.reshape(xx.shape)\n",
    "\n",
    "plt.contourf(xx, yy, Z, levels=np.linspace(Z.min(), threshold, 7),cmap=plt.cm.Blues_r)\n",
    "a = plt.contour(xx, yy, Z, levels=[threshold],linewidths=2, colors='red')\n",
    "plt.contourf(xx, yy, Z, levels=[threshold, Z.max()],colors='orange')\n",
    "b = plt.scatter(inliers_sales, inliers_profit, c='white',s=20, edgecolor='k')\n",
    "    \n",
    "c = plt.scatter(outliers_sales, outliers_profit, c='black',s=20, edgecolor='k')\n",
    "       \n",
    "plt.axis('tight')   \n",
    "plt.legend([a.collections[0], b,c], ['learned decision function', 'inliers','outliers'],\n",
    "           prop=matplotlib.font_manager.FontProperties(size=20),loc='lower right')      \n",
    "plt.xlim((0, 1))\n",
    "plt.ylim((0, 1))\n",
    "plt.title('Cluster-based Local Outlier Factor (CBLOF)')\n",
    "plt.show();"
   ]
  },
  {
   "cell_type": "code",
   "execution_count": null,
   "metadata": {},
   "outputs": [],
   "source": []
  }
 ],
 "metadata": {
  "kernelspec": {
   "display_name": "Python 3",
   "language": "python",
   "name": "python3"
  },
  "language_info": {
   "codemirror_mode": {
    "name": "ipython",
    "version": 3
   },
   "file_extension": ".py",
   "mimetype": "text/x-python",
   "name": "python",
   "nbconvert_exporter": "python",
   "pygments_lexer": "ipython3",
   "version": "3.8.5"
  }
 },
 "nbformat": 4,
 "nbformat_minor": 4
}
